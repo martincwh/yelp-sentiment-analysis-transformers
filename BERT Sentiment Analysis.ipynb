{
 "cells": [
  {
   "cell_type": "markdown",
   "metadata": {},
   "source": [
    "__Building a Sentiment Analysis Model with Transformers (BERT)__"
   ]
  },
  {
   "cell_type": "markdown",
   "metadata": {},
   "source": [
    "This Python notebook contains the development process of the sentiment analysis model that we will be using to predict the sentiment of Yelp text reviews. We will be using a Transformer model, more specifically, the BERT model, to develop our sentiment analysis model. This project aims to gauge the overall sentiment expressed in large volumes of text reviews (positive, negative, or neutral), enabling businesses to quickly identify areas where customers are satisfied or dissatisfied and prioritize areas for improvement. This is particularly useful in cases where businesses receive high volumes of daily text reviews and do not have the time to individually analyse them to derive the overall sentiment towards that business."
   ]
  },
  {
   "cell_type": "markdown",
   "metadata": {},
   "source": [
    "Use Cases:\n",
    "- Use text mining to analyse online reviews to see if they are positive negative or neutral\n",
    "- Identify common complaints or area of improvements\n",
    "- Identify positive comments to encourage business development initiatives"
   ]
  },
  {
   "cell_type": "markdown",
   "metadata": {},
   "source": [
    "Note: Due to the computational power required by Transformers, running all the code chunks in this file may take a long time. This Python notebook simply shows the code that was used to train and develop the final model. For more information about the model development and selection process, please read \"BERT Model Details.pdf\" for evaluation metrics."
   ]
  },
  {
   "cell_type": "markdown",
   "metadata": {
    "id": "2PsQKQdkkQli"
   },
   "source": [
    "General Imports"
   ]
  },
  {
   "cell_type": "code",
   "execution_count": null,
   "metadata": {
    "colab": {
     "base_uri": "https://localhost:8080/"
    },
    "executionInfo": {
     "elapsed": 477,
     "status": "ok",
     "timestamp": 1712173582043,
     "user": {
      "displayName": "CHENG WEI HERN, MARTIN _",
      "userId": "09685265324610273785"
     },
     "user_tz": -480
    },
    "id": "DGdCxzCbkQlk",
    "outputId": "e186dd71-a9de-4b3b-9937-2576124e9f8c"
   },
   "outputs": [],
   "source": [
    "# RUN THIS EVERYTIME AT THE START\n",
    "import pandas as pd\n",
    "import re\n",
    "import string\n",
    "from collections import Counter, defaultdict\n",
    "from sklearn.feature_extraction.text import CountVectorizer, TfidfVectorizer\n",
    "import warnings\n",
    "warnings.filterwarnings('ignore')\n",
    "import nltk\n",
    "nltk.download('stopwords')\n",
    "from nltk.corpus import stopwords\n",
    "stopWords_nltk = set(stopwords.words('english'))"
   ]
  },
  {
   "cell_type": "markdown",
   "metadata": {
    "id": "wZvxPi1KkQlm"
   },
   "source": [
    "Helper Functions"
   ]
  },
  {
   "cell_type": "code",
   "execution_count": null,
   "metadata": {
    "executionInfo": {
     "elapsed": 2,
     "status": "ok",
     "timestamp": 1712173582749,
     "user": {
      "displayName": "CHENG WEI HERN, MARTIN _",
      "userId": "09685265324610273785"
     },
     "user_tz": -480
    },
    "id": "qsilGRT1kQlm"
   },
   "outputs": [],
   "source": [
    "import re\n",
    "from typing import Union, List\n",
    "\n",
    "class CleanText():\n",
    "    \"\"\" clearing text except digits () . , word character \"\"\"\n",
    "\n",
    "    def __init__(self, clean_pattern = r\"[^A-ZĞÜŞİÖÇIa-zğüı'şöç0-9.\\\"',()]\"):\n",
    "        self.clean_pattern =clean_pattern\n",
    "\n",
    "    def __call__(self, text: Union[str, list]) -> List[List[str]]:\n",
    "\n",
    "        if isinstance(text, str):\n",
    "            docs = [[text]]\n",
    "\n",
    "        if isinstance(text, list):\n",
    "            docs = text\n",
    "\n",
    "        text = [[re.sub(self.clean_pattern, \" \", sent) for sent in sents] for sents in docs]\n",
    "\n",
    "        return text\n",
    "\n",
    "def remove_emoji(data):\n",
    "    emoj = re.compile(\"[\"\n",
    "        u\"\\U0001F600-\\U0001F64F\"  # emoticons\n",
    "        u\"\\U0001F300-\\U0001F5FF\"  # symbols & pictographs\n",
    "        u\"\\U0001F680-\\U0001F6FF\"  # transport & map symbols\n",
    "        u\"\\U0001F1E0-\\U0001F1FF\"  # flags (iOS)\n",
    "        u\"\\U00002500-\\U00002BEF\"\n",
    "        u\"\\U00002702-\\U000027B0\"\n",
    "        u\"\\U00002702-\\U000027B0\"\n",
    "        u\"\\U000024C2-\\U0001F251\"\n",
    "        u\"\\U0001f926-\\U0001f937\"\n",
    "        u\"\\U00010000-\\U0010ffff\"\n",
    "        u\"\\u2640-\\u2642\"\n",
    "        u\"\\u2600-\\u2B55\"\n",
    "        u\"\\u200d\"\n",
    "        u\"\\u23cf\"\n",
    "        u\"\\u23e9\"\n",
    "        u\"\\u231a\"\n",
    "        u\"\\ufe0f\"  # dingbats\n",
    "        u\"\\u3030\"\n",
    "                      \"]+\", re.UNICODE)\n",
    "    return re.sub(emoj, '', data)\n",
    "\n",
    "def tokenize(text):\n",
    "    \"\"\" basic tokenize method with word character, non word character and digits \"\"\"\n",
    "    text = re.sub(r\" +\", \" \", str(text))\n",
    "    text = re.split(r\"(\\d+|[a-zA-ZğüşıöçĞÜŞİÖÇ]+|\\W)\", text)\n",
    "    text = list(filter(lambda x: x != '' and x != ' ', text))\n",
    "    sent_tokenized = ' '.join(text)\n",
    "    return sent_tokenized\n",
    "\n",
    "regex = re.compile('[%s]' % re.escape(string.punctuation))\n",
    "\n",
    "def remove_punct(text):\n",
    "    text = regex.sub(\" \", text)\n",
    "    return text\n",
    "\n",
    "clean = CleanText()\n",
    "\n",
    "# label encode\n",
    "def label_encode(x):\n",
    "    if x == 1 or x == 2:\n",
    "        return 0\n",
    "    if x == 3:\n",
    "        return 1\n",
    "    if x == 5 or x == 4:\n",
    "        return 2\n",
    "\n",
    "# label to name\n",
    "def label2name(x):\n",
    "    if x == 0:\n",
    "        return \"Negative\"\n",
    "    if x == 1:\n",
    "        return \"Neutral\"\n",
    "    if x == 2:\n",
    "        return \"Positive\"\n"
   ]
  },
  {
   "cell_type": "markdown",
   "metadata": {
    "id": "nZtw463jkQln"
   },
   "source": [
    "Read Data"
   ]
  },
  {
   "cell_type": "code",
   "execution_count": null,
   "metadata": {
    "id": "Qll4nplfkQlo"
   },
   "outputs": [],
   "source": [
    "df = pd.read_csv(\"unique_data.csv\")"
   ]
  },
  {
   "cell_type": "code",
   "execution_count": null,
   "metadata": {
    "colab": {
     "base_uri": "https://localhost:8080/"
    },
    "executionInfo": {
     "elapsed": 16,
     "status": "ok",
     "timestamp": 1712173589208,
     "user": {
      "displayName": "CHENG WEI HERN, MARTIN _",
      "userId": "09685265324610273785"
     },
     "user_tz": -480
    },
    "id": "emNQowTWkQlo",
    "outputId": "4b16bf7a-888c-4326-e2f5-e1d794449084"
   },
   "outputs": [],
   "source": [
    "# extract only 'review_stars' and 'review_text' columns and rename them\n",
    "df = df[[\"review_text\", \"review_stars\"]].rename(columns = {\"review_text\": \"Review\", \"review_stars\": \"Rating\"})\n",
    "\n",
    "# show column names\n",
    "print(\"df.columns: \", df.columns)"
   ]
  },
  {
   "cell_type": "code",
   "execution_count": null,
   "metadata": {
    "colab": {
     "base_uri": "https://localhost:8080/",
     "height": 206
    },
    "executionInfo": {
     "elapsed": 7,
     "status": "ok",
     "timestamp": 1712173589208,
     "user": {
      "displayName": "CHENG WEI HERN, MARTIN _",
      "userId": "09685265324610273785"
     },
     "user_tz": -480
    },
    "id": "bHSH7r2TkQlp",
    "outputId": "5aec08f2-b930-4f30-e90d-b4629a8dff0a"
   },
   "outputs": [],
   "source": [
    "# head of df\n",
    "df.head()"
   ]
  },
  {
   "cell_type": "markdown",
   "metadata": {
    "id": "pjscAtBEkQlp"
   },
   "source": [
    "Labelling & Cleaning Text"
   ]
  },
  {
   "cell_type": "code",
   "execution_count": null,
   "metadata": {
    "executionInfo": {
     "elapsed": 9071,
     "status": "ok",
     "timestamp": 1712173598273,
     "user": {
      "displayName": "CHENG WEI HERN, MARTIN _",
      "userId": "09685265324610273785"
     },
     "user_tz": -480
    },
    "id": "5j80wswVkQlq"
   },
   "outputs": [],
   "source": [
    "# encode label and mapping label name\n",
    "df[\"label\"] = df[\"Rating\"].apply(lambda x: label_encode(x))\n",
    "df[\"label_name\"] = df[\"label\"].apply(lambda x: label2name(x))\n",
    "\n",
    "# clean text, lowercase and remove punctuation\n",
    "df[\"Review\"] = df[\"Review\"].apply(lambda x: remove_punct(clean(remove_emoji(x).lower())[0][0]))"
   ]
  },
  {
   "cell_type": "code",
   "execution_count": null,
   "metadata": {
    "colab": {
     "base_uri": "https://localhost:8080/",
     "height": 206
    },
    "executionInfo": {
     "elapsed": 16,
     "status": "ok",
     "timestamp": 1712173598273,
     "user": {
      "displayName": "CHENG WEI HERN, MARTIN _",
      "userId": "09685265324610273785"
     },
     "user_tz": -480
    },
    "id": "zhEyrGA2kQlq",
    "outputId": "7f676dbb-4b87-4efb-85a7-5aa8c298dfdc"
   },
   "outputs": [],
   "source": [
    "# checking head of df to ensure labelling and cleaning were successful\n",
    "df.head()"
   ]
  },
  {
   "cell_type": "markdown",
   "metadata": {
    "id": "xLFdU8jWkQlr"
   },
   "source": [
    "Using a Simple Tokenizer to Tokenize Reviews and Generate Token Counts"
   ]
  },
  {
   "cell_type": "code",
   "execution_count": null,
   "metadata": {
    "executionInfo": {
     "elapsed": 24519,
     "status": "ok",
     "timestamp": 1712173622778,
     "user": {
      "displayName": "CHENG WEI HERN, MARTIN _",
      "userId": "09685265324610273785"
     },
     "user_tz": -480
    },
    "id": "nFRBthU1kQlr"
   },
   "outputs": [],
   "source": [
    "# tokenize data\n",
    "df[\"tokenized_review\"] = df.Review.apply(lambda x: tokenize(x)).apply(lambda x: remove_punct(x))\n",
    "\n",
    "# calculate token count for any sent\n",
    "df[\"sent_token_length\"] = df[\"tokenized_review\"].apply(lambda x: len(x.split()))"
   ]
  },
  {
   "cell_type": "code",
   "execution_count": null,
   "metadata": {
    "colab": {
     "base_uri": "https://localhost:8080/"
    },
    "executionInfo": {
     "elapsed": 13,
     "status": "ok",
     "timestamp": 1712173622778,
     "user": {
      "displayName": "CHENG WEI HERN, MARTIN _",
      "userId": "09685265324610273785"
     },
     "user_tz": -480
    },
    "id": "K6aIxo5RkQlr",
    "outputId": "d7a925c5-261e-4507-bd58-393956d93582"
   },
   "outputs": [],
   "source": [
    "# determine what proportion of all sent_token_length is less than 512\n",
    "(df.sent_token_length < 512).mean()"
   ]
  },
  {
   "cell_type": "markdown",
   "metadata": {
    "id": "puX1Y_IskQls"
   },
   "source": [
    "Generating Token Counts with BERT Tokenizer for Transformer Model"
   ]
  },
  {
   "cell_type": "code",
   "execution_count": null,
   "metadata": {
    "colab": {
     "base_uri": "https://localhost:8080/",
     "height": 145,
     "referenced_widgets": [
      "501d0ccd88b14dd989f6b918e2aa7308",
      "88c4901035354b0cbdfae42f90a490ee",
      "c2046a428d8245bebb942e9a172de30c",
      "bb38542c81ee4f929c7461888230af06",
      "30e639a4217446fda87e46251894aeef",
      "3708afa1095141cb9bdbf1b83ceaaa5d",
      "cdc588a2856f4c46955583acc53b5de8",
      "e5a9b94efc1c40cabee3156790fcd863",
      "eff14a73c67344958ec6f6449ee31f87",
      "c555790c5d7f4923b9d44cd662ee5f57",
      "805df19faa6849f5ab6f7bd0e3d73a44",
      "fb657e51fc82416ab63e50d32f52f542",
      "58dc40e38a3c4e9b9b56db8ed0ce9809",
      "287253ae4cda4773be5225bfaaaceb7b",
      "019b8464ca824686b054865fda4225b6",
      "00e65c4f9f6947189fc7351a17a5e201",
      "5e9dbf9396104505a06b1d64f91f41c7",
      "a0b83ab8b0a94435a795cb4a5936faa4",
      "ed28ae354da446ccb8d4438018b36268",
      "cacc2798f26b401fab4d55d6ae6359e1",
      "7b872505f7094b2bb68fb5886ebd4195",
      "a400fdfddd194bc2b96fe55be4a3e72b",
      "204f9e32d8c646c598865e1ce59ab5d3",
      "9189c56031f340bda99c09e06d5d9156",
      "010d0ce17d674c6aaf8b74acc31aab89",
      "5f097e7b02104feba405e42c709a1b67",
      "b5bfb92ca8684932b450aea094144a92",
      "029717588a1d4d47a833a4a08688465c",
      "223da9006aa0489e8b9ac7b6da3c2f59",
      "4b6f51e00d404d64adce536eab258baa",
      "bca46ab8223c4f61b10a5cc364e68146",
      "57e0876367ef444a82011624ebc9bab2",
      "9ef27e5b34244db785eae5d7367681b9",
      "f3b4677ca98f4414a22886d583ff36b3",
      "4a0458e7d5fd49fb90cbc54d0b1a0a3f",
      "11e9780d6454422ca06ecf4935c0430e",
      "27de5e46114c4e0282f2c1022a8bb7b3",
      "3971fa6fb879439aab087a88ee87b614",
      "caf0504c49f244618626ab468184ee1e",
      "501a3d8d534944848fc9a43cf4c603e9",
      "9f28a4d552d44f3d9ab9ad53b2f77385",
      "f825334ea52a410cb1e8c6acb48816e9",
      "06dd658abacb45d2ba68cea33b2a3c90",
      "57d36161668243b5bf6d7829e79ce248"
     ]
    },
    "executionInfo": {
     "elapsed": 11485,
     "status": "ok",
     "timestamp": 1712173634251,
     "user": {
      "displayName": "CHENG WEI HERN, MARTIN _",
      "userId": "09685265324610273785"
     },
     "user_tz": -480
    },
    "id": "xzObeouEkQls",
    "outputId": "96ed81b4-099a-4d55-c57d-ebb1111bee7b"
   },
   "outputs": [],
   "source": [
    "# initiate BERT tokenizer\n",
    "from transformers import BertTokenizer\n",
    "tokenizer = BertTokenizer.from_pretrained('bert-base-uncased', do_lower_case=True)"
   ]
  },
  {
   "cell_type": "code",
   "execution_count": null,
   "metadata": {
    "id": "iI66JR9NkQls"
   },
   "outputs": [],
   "source": [
    "# tokenize data with bert tokenizer (takes about 4-6 minutes to run this chunk)\n",
    "df[\"sent_bert_token_length\"] = df[\"Review\"].apply(lambda x: len(tokenizer(x, add_special_tokens=False)[\"input_ids\"]))"
   ]
  },
  {
   "cell_type": "code",
   "execution_count": null,
   "metadata": {
    "executionInfo": {
     "elapsed": 12,
     "status": "aborted",
     "timestamp": 1712173646892,
     "user": {
      "displayName": "CHENG WEI HERN, MARTIN _",
      "userId": "09685265324610273785"
     },
     "user_tz": -480
    },
    "id": "9J08G76RkQlt"
   },
   "outputs": [],
   "source": [
    "# determine what proportion of all sent_bert_token_length is less than 512\n",
    "(df.sent_bert_token_length < 512).mean()"
   ]
  },
  {
   "cell_type": "markdown",
   "metadata": {
    "id": "epJd61MzkQlt"
   },
   "source": [
    "BERT Preprocessing and Training Imports"
   ]
  },
  {
   "cell_type": "code",
   "execution_count": null,
   "metadata": {
    "colab": {
     "base_uri": "https://localhost:8080/"
    },
    "executionInfo": {
     "elapsed": 832,
     "status": "ok",
     "timestamp": 1712173654779,
     "user": {
      "displayName": "CHENG WEI HERN, MARTIN _",
      "userId": "09685265324610273785"
     },
     "user_tz": -480
    },
    "id": "0ACY2nq_kQlt",
    "outputId": "4b60ccae-5823-41ed-c682-de9b290ea121"
   },
   "outputs": [],
   "source": [
    "# RUN THIS EVERYTIME AT THE START\n",
    "import pandas as pd\n",
    "import numpy as np\n",
    "import os\n",
    "import random\n",
    "from pathlib import Path\n",
    "import json\n",
    "\n",
    "import torch\n",
    "if torch.cuda.is_available():\n",
    "    device_name = torch.device(\"cuda\")\n",
    "else:\n",
    "    device_name = torch.device('cpu')\n",
    "print(\"Using {}.\".format(device_name))\n",
    "from tqdm.notebook import tqdm\n",
    "\n",
    "from transformers import BertTokenizer\n",
    "from torch.utils.data import TensorDataset\n",
    "\n",
    "from transformers import BertForSequenceClassification"
   ]
  },
  {
   "cell_type": "markdown",
   "metadata": {
    "id": "9CwlcKuOkQlu"
   },
   "source": [
    "BERT Preprocessing and Training"
   ]
  },
  {
   "cell_type": "code",
   "execution_count": 6,
   "metadata": {
    "executionInfo": {
     "elapsed": 1122,
     "status": "ok",
     "timestamp": 1712173659690,
     "user": {
      "displayName": "CHENG WEI HERN, MARTIN _",
      "userId": "09685265324610273785"
     },
     "user_tz": -480
    },
    "id": "Qh_BKKi8kQlu"
   },
   "outputs": [],
   "source": [
    "class Config():\n",
    "    seed_val = 17\n",
    "    device = torch.device(\"cuda:0\" if torch.cuda.is_available() else \"cpu\")\n",
    "    epochs = 5\n",
    "    batch_size = 6\n",
    "    seq_length = 512\n",
    "    lr = 2e-5\n",
    "    eps = 1e-8\n",
    "    pretrained_model = 'bert-base-uncased'\n",
    "    test_size=0.15\n",
    "    random_state=42\n",
    "    add_special_tokens=True\n",
    "    return_attention_mask=True\n",
    "    pad_to_max_length=True\n",
    "    do_lower_case=False\n",
    "    return_tensors='pt'\n",
    "\n",
    "config = Config()"
   ]
  },
  {
   "cell_type": "code",
   "execution_count": null,
   "metadata": {
    "executionInfo": {
     "elapsed": 892,
     "status": "ok",
     "timestamp": 1712173665618,
     "user": {
      "displayName": "CHENG WEI HERN, MARTIN _",
      "userId": "09685265324610273785"
     },
     "user_tz": -480
    },
    "id": "CiIq5E7fkQlu"
   },
   "outputs": [],
   "source": [
    "# params will be saved after training\n",
    "params = {\"seed_val\": config.seed_val,\n",
    "    \"device\":str(config.device),\n",
    "    \"epochs\":config.epochs,\n",
    "    \"batch_size\":config.batch_size,\n",
    "    \"seq_length\":config.seq_length,\n",
    "    \"lr\":config.lr,\n",
    "    \"eps\":config.eps,\n",
    "    \"pretrained_model\": config.pretrained_model,\n",
    "    \"test_size\":config.test_size,\n",
    "    \"random_state\":config.random_state,\n",
    "    \"add_special_tokens\":config.add_special_tokens,\n",
    "    \"return_attention_mask\":config.return_attention_mask,\n",
    "    \"pad_to_max_length\":config.pad_to_max_length,\n",
    "    \"do_lower_case\":config.do_lower_case,\n",
    "    \"return_tensors\":config.return_tensors,\n",
    "         }"
   ]
  },
  {
   "cell_type": "code",
   "execution_count": 10,
   "metadata": {
    "executionInfo": {
     "elapsed": 2,
     "status": "ok",
     "timestamp": 1712173669852,
     "user": {
      "displayName": "CHENG WEI HERN, MARTIN _",
      "userId": "09685265324610273785"
     },
     "user_tz": -480
    },
    "id": "zvtaVZfjkQlu"
   },
   "outputs": [],
   "source": [
    "# set random seed and device\n",
    "import random\n",
    "\n",
    "device = config.device\n",
    "\n",
    "random.seed(config.seed_val)\n",
    "np.random.seed(config.seed_val)\n",
    "torch.manual_seed(config.seed_val)\n",
    "torch.cuda.manual_seed_all(config.seed_val)"
   ]
  },
  {
   "cell_type": "code",
   "execution_count": null,
   "metadata": {
    "executionInfo": {
     "elapsed": 11,
     "status": "aborted",
     "timestamp": 1712173646893,
     "user": {
      "displayName": "CHENG WEI HERN, MARTIN _",
      "userId": "09685265324610273785"
     },
     "user_tz": -480
    },
    "id": "jFFTgaGskQlv"
   },
   "outputs": [],
   "source": [
    "# view df to ensure tokenizing was successful\n",
    "df.head()"
   ]
  },
  {
   "cell_type": "markdown",
   "metadata": {
    "id": "WkpHZUtvkQlv"
   },
   "source": [
    "Train, Validation, & Test Split"
   ]
  },
  {
   "cell_type": "code",
   "execution_count": null,
   "metadata": {
    "executionInfo": {
     "elapsed": 11,
     "status": "aborted",
     "timestamp": 1712173646893,
     "user": {
      "displayName": "CHENG WEI HERN, MARTIN _",
      "userId": "09685265324610273785"
     },
     "user_tz": -480
    },
    "id": "sKqYCq9ckQlv"
   },
   "outputs": [],
   "source": [
    "# split train, validation, and test according to the proportion 60/20/20 respectively\n",
    "# train_size and val_size variables are indexes that are derived from sentiment analysis preprocess.ipynb for the sake of data consistency across all 3 sentiment analysis models\n",
    "train_size = int(len(df) * 0.6)\n",
    "val_size = int(len(df) * 0.2)\n",
    "train_df = df[:train_size]\n",
    "val_df = df[train_size:train_size+val_size]\n",
    "test_df = df[train_size+val_size:]"
   ]
  },
  {
   "cell_type": "code",
   "execution_count": null,
   "metadata": {
    "executionInfo": {
     "elapsed": 12,
     "status": "aborted",
     "timestamp": 1712173646894,
     "user": {
      "displayName": "CHENG WEI HERN, MARTIN _",
      "userId": "09685265324610273785"
     },
     "user_tz": -480
    },
    "id": "EYVlDvJ4kQlv"
   },
   "outputs": [],
   "source": [
    "# view train_df\n",
    "train_df.head()"
   ]
  },
  {
   "cell_type": "code",
   "execution_count": null,
   "metadata": {
    "executionInfo": {
     "elapsed": 12,
     "status": "aborted",
     "timestamp": 1712173646894,
     "user": {
      "displayName": "CHENG WEI HERN, MARTIN _",
      "userId": "09685265324610273785"
     },
     "user_tz": -480
    },
    "id": "vsp_-hDLkQlw"
   },
   "outputs": [],
   "source": [
    "# count of unique label control for train set\n",
    "print(len(train_df['label'].unique()))\n",
    "print(train_df.shape)\n",
    "\n",
    "# count of unique label control for val set\n",
    "print(len(val_df['label'].unique()))\n",
    "print(val_df.shape)\n",
    "\n",
    "# count of unique label control for test set\n",
    "print(len(test_df['label'].unique()))\n",
    "print(test_df.shape)"
   ]
  },
  {
   "cell_type": "markdown",
   "metadata": {
    "id": "dtCePi7DkQlw"
   },
   "source": [
    "Encoding Training & Validation Data with BERT Tokenizer"
   ]
  },
  {
   "cell_type": "code",
   "execution_count": null,
   "metadata": {
    "executionInfo": {
     "elapsed": 12,
     "status": "aborted",
     "timestamp": 1712173646894,
     "user": {
      "displayName": "CHENG WEI HERN, MARTIN _",
      "userId": "09685265324610273785"
     },
     "user_tz": -480
    },
    "id": "h5gLQDOGkQlw"
   },
   "outputs": [],
   "source": [
    "# this whole chunk takes around 4m 8.5s to run\n",
    "# create tokenizer\n",
    "tokenizer = BertTokenizer.from_pretrained(config.pretrained_model, do_lower_case=config.do_lower_case)\n",
    "\n",
    "# encode data with BERT tokenizer\n",
    "encoded_data_train = tokenizer.batch_encode_plus(\n",
    "    train_df.Review.values,\n",
    "    add_special_tokens=config.add_special_tokens,\n",
    "    return_attention_mask=config.return_attention_mask,\n",
    "    pad_to_max_length=config.pad_to_max_length,\n",
    "    max_length=config.seq_length,\n",
    "    return_tensors=config.return_tensors\n",
    ")\n",
    "encoded_data_val = tokenizer.batch_encode_plus(\n",
    "    val_df.Review.values,\n",
    "    add_special_tokens=config.add_special_tokens,\n",
    "    return_attention_mask=config.return_attention_mask,\n",
    "    pad_to_max_length=config.pad_to_max_length,\n",
    "    max_length=config.seq_length,\n",
    "    return_tensors=config.return_tensors\n",
    ")\n",
    "\n",
    "# create input id\n",
    "input_ids_train = encoded_data_train['input_ids']\n",
    "attention_masks_train = encoded_data_train['attention_mask']\n",
    "labels_train = torch.tensor(train_df.label.values)\n",
    "\n",
    "input_ids_val = encoded_data_val['input_ids']\n",
    "attention_masks_val = encoded_data_val['attention_mask']\n",
    "labels_val = torch.tensor(val_df.label.values)\n",
    "\n",
    "# encode dataset with bert tokenizer\n",
    "dataset_train = TensorDataset(input_ids_train, attention_masks_train, labels_train)\n",
    "dataset_val = TensorDataset(input_ids_val, attention_masks_val, labels_val)"
   ]
  },
  {
   "cell_type": "markdown",
   "metadata": {
    "id": "gaacp7H6kQlx"
   },
   "source": [
    "Creating the Base Model"
   ]
  },
  {
   "cell_type": "code",
   "execution_count": null,
   "metadata": {
    "colab": {
     "base_uri": "https://localhost:8080/",
     "height": 84,
     "referenced_widgets": [
      "80f3d1e91d3646aca2a7a63de5ea7993",
      "2b6f9fb29277462aa62c1ea462ca8646",
      "aedb9f2d55c8404c8d50596a65105b57",
      "abd8f2385fd84aaa9933727683ab646c",
      "0ad1b5846f7948599c5804897d9daa6b",
      "90598ef731984ee78181cf14b7f7104a",
      "2ce834f9d7804cb1a6521b2a62770824",
      "0cfa5fde3c4b4634aa7de0137ec719fb",
      "3cef2a241cd4483f92a39741c1caf619",
      "ab747be6cbb44d44a18759d453c6398f",
      "92e493687daf43bca8e80545a45d873f"
     ]
    },
    "executionInfo": {
     "elapsed": 7119,
     "status": "ok",
     "timestamp": 1712173688795,
     "user": {
      "displayName": "CHENG WEI HERN, MARTIN _",
      "userId": "09685265324610273785"
     },
     "user_tz": -480
    },
    "id": "RYaUbGhikQlx",
    "outputId": "e694ce0c-1ce9-4538-f072-cb4544a7db0c"
   },
   "outputs": [],
   "source": [
    "# create bert-base-uncased, which is a smaller pre-trained model\n",
    "# using num_labels=3 to indicate the number of output labels (positive/neutral/negative).\n",
    "model = BertForSequenceClassification.from_pretrained(config.pretrained_model,\n",
    "                                                      num_labels=3,\n",
    "                                                      output_attentions=False,\n",
    "                                                      output_hidden_states=False)"
   ]
  },
  {
   "cell_type": "markdown",
   "metadata": {
    "id": "DwssvxC8kQlx"
   },
   "source": [
    "Creating Data Loaders for Train and Validation Sets"
   ]
  },
  {
   "cell_type": "code",
   "execution_count": null,
   "metadata": {
    "executionInfo": {
     "elapsed": 14,
     "status": "aborted",
     "timestamp": 1712173646897,
     "user": {
      "displayName": "CHENG WEI HERN, MARTIN _",
      "userId": "09685265324610273785"
     },
     "user_tz": -480
    },
    "id": "sjVHhrcwkQly"
   },
   "outputs": [],
   "source": [
    "# create data loader for train and validation set using RandomSampler and SequentialSampler respectively to provide an iterable over the dataset\n",
    "from torch.utils.data import DataLoader, RandomSampler, SequentialSampler\n",
    "\n",
    "dataloader_train = DataLoader(dataset_train,\n",
    "                              sampler=RandomSampler(dataset_train),\n",
    "                              batch_size=config.batch_size)\n",
    "\n",
    "dataloader_validation = DataLoader(dataset_val,\n",
    "                                   sampler=SequentialSampler(dataset_val),\n",
    "                                   batch_size=config.batch_size)"
   ]
  },
  {
   "cell_type": "markdown",
   "metadata": {
    "id": "WV9Mi7mFkQly"
   },
   "source": [
    "Defining Optimizer and Scheduler"
   ]
  },
  {
   "cell_type": "code",
   "execution_count": null,
   "metadata": {
    "executionInfo": {
     "elapsed": 14,
     "status": "aborted",
     "timestamp": 1712173646897,
     "user": {
      "displayName": "CHENG WEI HERN, MARTIN _",
      "userId": "09685265324610273785"
     },
     "user_tz": -480
    },
    "id": "1C6EzDxKkQly"
   },
   "outputs": [],
   "source": [
    "from transformers import AdamW, get_linear_schedule_with_warmup\n",
    "\n",
    "optimizer = AdamW(model.parameters(),\n",
    "                  lr=config.lr,\n",
    "                  eps=config.eps)\n",
    "\n",
    "\n",
    "scheduler = get_linear_schedule_with_warmup(optimizer,\n",
    "                                            num_warmup_steps=0,\n",
    "                                            num_training_steps=len(dataloader_train)*config.epochs)"
   ]
  },
  {
   "cell_type": "markdown",
   "metadata": {
    "id": "Mynfza51kQly"
   },
   "source": [
    "Defining Performance Metric Functions"
   ]
  },
  {
   "cell_type": "code",
   "execution_count": null,
   "metadata": {
    "executionInfo": {
     "elapsed": 14,
     "status": "aborted",
     "timestamp": 1712173646897,
     "user": {
      "displayName": "CHENG WEI HERN, MARTIN _",
      "userId": "09685265324610273785"
     },
     "user_tz": -480
    },
    "id": "Z0knjxFZkQlz"
   },
   "outputs": [],
   "source": [
    "# we will use f1 score and accuracy per class as performance metrics to evaluate our model\n",
    "from sklearn.metrics import f1_score\n",
    "\n",
    "# function to return f1 score\n",
    "def f1_score_func(preds, labels):\n",
    "    preds_flat = np.argmax(preds, axis=1).flatten()\n",
    "    labels_flat = labels.flatten()\n",
    "    return f1_score(labels_flat, preds_flat, average='weighted')\n",
    "\n",
    "# function to return accuracy per class (positive/neutral/negative)\n",
    "def accuracy_per_class(preds, labels, label_dict):\n",
    "    label_dict_inverse = {v: k for k, v in label_dict.items()}\n",
    "\n",
    "    preds_flat = np.argmax(preds, axis=1).flatten()\n",
    "    labels_flat = labels.flatten()\n",
    "\n",
    "    for label in np.unique(labels_flat):\n",
    "        y_preds = preds_flat[labels_flat==label]\n",
    "        y_true = labels_flat[labels_flat==label]\n",
    "        print(f'Class: {label_dict_inverse[label]}')\n",
    "        print(f'Accuracy: {len(y_preds[y_preds==label])}/{len(y_true)}\\n')"
   ]
  },
  {
   "cell_type": "markdown",
   "metadata": {
    "id": "SBfs8qdPkQl7"
   },
   "source": [
    "Training the Model"
   ]
  },
  {
   "cell_type": "code",
   "execution_count": null,
   "metadata": {
    "executionInfo": {
     "elapsed": 14,
     "status": "aborted",
     "timestamp": 1712173646897,
     "user": {
      "displayName": "CHENG WEI HERN, MARTIN _",
      "userId": "09685265324610273785"
     },
     "user_tz": -480
    },
    "id": "ZC2p28p5kQl7"
   },
   "outputs": [],
   "source": [
    "def evaluate(dataloader_val):\n",
    "\n",
    "    model.eval()\n",
    "\n",
    "    loss_val_total = 0\n",
    "    predictions, true_vals = [], []\n",
    "\n",
    "    for batch in dataloader_val:\n",
    "\n",
    "        batch = tuple(b.to(config.device) for b in batch)\n",
    "\n",
    "        inputs = {'input_ids':      batch[0],\n",
    "                  'attention_mask': batch[1],\n",
    "                  'labels':         batch[2],\n",
    "                 }\n",
    "\n",
    "        with torch.no_grad():\n",
    "            outputs = model(**inputs)\n",
    "\n",
    "        loss = outputs[0]\n",
    "        logits = outputs[1]\n",
    "        loss_val_total += loss.item()\n",
    "\n",
    "        logits = logits.detach().cpu().numpy()\n",
    "        label_ids = inputs['labels'].cpu().numpy()\n",
    "        predictions.append(logits)\n",
    "        true_vals.append(label_ids)\n",
    "\n",
    "    # calculate avareage val loss\n",
    "    loss_val_avg = loss_val_total/len(dataloader_val)\n",
    "\n",
    "    predictions = np.concatenate(predictions, axis=0)\n",
    "    true_vals = np.concatenate(true_vals, axis=0)\n",
    "\n",
    "    return loss_val_avg, predictions, true_vals"
   ]
  },
  {
   "cell_type": "code",
   "execution_count": null,
   "metadata": {
    "executionInfo": {
     "elapsed": 14,
     "status": "aborted",
     "timestamp": 1712173646897,
     "user": {
      "displayName": "CHENG WEI HERN, MARTIN _",
      "userId": "09685265324610273785"
     },
     "user_tz": -480
    },
    "id": "0fDX7P-7kQl8"
   },
   "outputs": [],
   "source": [
    "# configure model to device\n",
    "config.device\n",
    "model.to(config.device)"
   ]
  },
  {
   "cell_type": "code",
   "execution_count": null,
   "metadata": {
    "executionInfo": {
     "elapsed": 14,
     "status": "aborted",
     "timestamp": 1712173646897,
     "user": {
      "displayName": "CHENG WEI HERN, MARTIN _",
      "userId": "09685265324610273785"
     },
     "user_tz": -480
    },
    "id": "Z7c6xQ0ckQl8"
   },
   "outputs": [],
   "source": [
    "# ALREADY TRAINED ONCE NO NEED TO TRAIN AGAIN (TAKES A LONG TIME TO RUN AND TRAIN)\n",
    "# creating 5 models iteratively using epochs 1 to 5 (choose the best model out of the 5 based on validation metrics)\n",
    "# pip install ipywidgets (make sure to install this before hand for this chunk to run; it allows us to track the progress bar)\n",
    "\n",
    "#for epoch in tqdm(range(1, config.epochs+1)):\n",
    "\n",
    "#    model.train()\n",
    "\n",
    "#    loss_train_total = 0\n",
    "    # allows you to see the progress of the training\n",
    "#    progress_bar = tqdm(dataloader_train, desc='Epoch {:1d}'.format(epoch), leave=False, disable=False)\n",
    "\n",
    "#    for batch in progress_bar:\n",
    "\n",
    "#        model.zero_grad()\n",
    "\n",
    "#        batch = tuple(b.to(config.device) for b in batch)\n",
    "\n",
    "\n",
    "#        inputs = {'input_ids':      batch[0],\n",
    "#                  'attention_mask': batch[1],\n",
    "#                  'labels':         batch[2],\n",
    "#                 }\n",
    "\n",
    "#        outputs = model(**inputs)\n",
    "\n",
    "#        loss = outputs[0]\n",
    "#        loss_train_total += loss.item()\n",
    "#        loss.backward()\n",
    "\n",
    "#        torch.nn.utils.clip_grad_norm_(model.parameters(), 1.0)\n",
    "\n",
    "#        optimizer.step()\n",
    "#        scheduler.step()\n",
    "\n",
    "#        progress_bar.set_postfix({'training_loss': '{:.3f}'.format(loss.item()/len(batch))})\n",
    "\n",
    "\n",
    "#    torch.save(model.state_dict(), f'_BERT_epoch_{epoch}.model')\n",
    "\n",
    "#    tqdm.write(f'\\nEpoch {epoch}')\n",
    "\n",
    "#    loss_train_avg = loss_train_total/len(dataloader_train)\n",
    "#    tqdm.write(f'Training loss: {loss_train_avg}')\n",
    "\n",
    "#    val_loss, predictions, true_vals = evaluate(dataloader_validation)\n",
    "#    val_f1 = f1_score_func(predictions, true_vals)\n",
    "#    tqdm.write(f'Validation loss: {val_loss}')\n",
    "\n",
    "#    tqdm.write(f'F1 Score (Weighted): {val_f1}');\n",
    "# save model params and other configs\n",
    "#with Path('params.json').open(\"w\") as f:\n",
    "#    json.dump(params, f, ensure_ascii=False, indent=4)"
   ]
  },
  {
   "cell_type": "markdown",
   "metadata": {
    "id": "ASk93IRjkQl9"
   },
   "source": [
    "Validation Error Analysis for Chosen Model"
   ]
  },
  {
   "cell_type": "code",
   "execution_count": null,
   "metadata": {
    "executionInfo": {
     "elapsed": 14,
     "status": "aborted",
     "timestamp": 1712173646898,
     "user": {
      "displayName": "CHENG WEI HERN, MARTIN _",
      "userId": "09685265324610273785"
     },
     "user_tz": -480
    },
    "id": "5UmJL3tEmG9b"
   },
   "outputs": [],
   "source": [
    "# load chosen model (choose bert_epoch_2 model)\n",
    "model.load_state_dict(torch.load(f'_BERT_epoch_2.model', map_location=torch.device('cpu')))"
   ]
  },
  {
   "cell_type": "code",
   "execution_count": null,
   "metadata": {
    "executionInfo": {
     "elapsed": 14,
     "status": "aborted",
     "timestamp": 1712173646898,
     "user": {
      "displayName": "CHENG WEI HERN, MARTIN _",
      "userId": "09685265324610273785"
     },
     "user_tz": -480
    },
    "id": "ttlFtQv0nKG2"
   },
   "outputs": [],
   "source": [
    "# step by step predictions on validation set dataframe\n",
    "# we do this to view predictions in the pandas dataframe and easily filter them and perform validation error analysis\n",
    "\n",
    "pred_final = []\n",
    "\n",
    "for i, row in tqdm(val_df.iterrows(), total=val_df.shape[0]):\n",
    "    predictions = []\n",
    "\n",
    "    review = row[\"Review\"]\n",
    "    encoded_data_test_single = tokenizer.batch_encode_plus(\n",
    "    [review],\n",
    "    add_special_tokens=config.add_special_tokens,\n",
    "    return_attention_mask=config.return_attention_mask,\n",
    "    pad_to_max_length=config.pad_to_max_length,\n",
    "    max_length=config.seq_length,\n",
    "    return_tensors=config.return_tensors\n",
    "    )\n",
    "    input_ids_test = encoded_data_test_single['input_ids']\n",
    "    attention_masks_test = encoded_data_test_single['attention_mask']\n",
    "\n",
    "\n",
    "    inputs = {'input_ids':      input_ids_test.to(device),\n",
    "              'attention_mask':attention_masks_test.to(device),\n",
    "             }\n",
    "\n",
    "    with torch.no_grad():\n",
    "        outputs = model(**inputs)\n",
    "\n",
    "    logits = outputs[0]\n",
    "    logits = logits.detach().cpu().numpy()\n",
    "    predictions.append(logits)\n",
    "    predictions = np.concatenate(predictions, axis=0)\n",
    "    pred_final.append(np.argmax(predictions, axis=1).flatten()[0])"
   ]
  },
  {
   "cell_type": "code",
   "execution_count": null,
   "metadata": {
    "executionInfo": {
     "elapsed": 14,
     "status": "aborted",
     "timestamp": 1712173646898,
     "user": {
      "displayName": "CHENG WEI HERN, MARTIN _",
      "userId": "09685265324610273785"
     },
     "user_tz": -480
    },
    "id": "RvfzFe6lnW5y"
   },
   "outputs": [],
   "source": [
    "# add predicted label as \"pred\" into val_df\n",
    "val_df[\"pred\"] = pred_final\n",
    "\n",
    "# label to label name mapping\n",
    "name2label = {\"Negative\":0,\n",
    "              \"Neutral\":1,\n",
    "             \"Positive\":2\n",
    "             }\n",
    "label_names = list(name2label.keys())\n",
    "label2name = {v: k for k, v in name2label.items()}\n",
    "\n",
    "# add predicted label name as \"pred_name\" into val_df\n",
    "val_df[\"pred_name\"] = val_df.pred.apply(lambda x: label2name.get(x))"
   ]
  },
  {
   "cell_type": "code",
   "execution_count": null,
   "metadata": {
    "executionInfo": {
     "elapsed": 14,
     "status": "aborted",
     "timestamp": 1712173646898,
     "user": {
      "displayName": "CHENG WEI HERN, MARTIN _",
      "userId": "09685265324610273785"
     },
     "user_tz": -480
    },
    "id": "Bai5H7bfv5qI"
   },
   "outputs": [],
   "source": [
    "from sklearn.metrics import classification_report\n",
    "from sklearn.metrics import confusion_matrix\n",
    "import seaborn as sns\n",
    "import matplotlib.pyplot as plt\n",
    "\n",
    "# print classification report for val_df\n",
    "print(classification_report(val_df.label_name.values, val_df.pred_name.values))\n",
    "\n",
    "# print confusion matrix for val_df\n",
    "confmat_df = pd.DataFrame(confusion_matrix(val_df.label_name.values, val_df.pred_name.values), index=label_names, columns=label_names)\n",
    "hmap = sns.heatmap(confmat_df, annot=True, fmt=\"d\", cmap=\"Blues\")\n",
    "hmap.yaxis.set_ticklabels(hmap.yaxis.get_ticklabels(), rotation=0, ha='right')\n",
    "hmap.xaxis.set_ticklabels(hmap.xaxis.get_ticklabels(), rotation=30, ha='right')\n",
    "plt.ylabel('Actual Sentiment')\n",
    "plt.xlabel('Predicted Sentiment');"
   ]
  },
  {
   "cell_type": "markdown",
   "metadata": {
    "id": "TvhkOnb22-on"
   },
   "source": [
    "Testing and Evaluating our Chosen Model"
   ]
  },
  {
   "cell_type": "code",
   "execution_count": null,
   "metadata": {
    "executionInfo": {
     "elapsed": 14,
     "status": "aborted",
     "timestamp": 1712173646898,
     "user": {
      "displayName": "CHENG WEI HERN, MARTIN _",
      "userId": "09685265324610273785"
     },
     "user_tz": -480
    },
    "id": "rTHb2ZbA3NFT"
   },
   "outputs": [],
   "source": [
    "# getting a glimpse of the test set\n",
    "test_df.head()"
   ]
  },
  {
   "cell_type": "code",
   "execution_count": null,
   "metadata": {
    "executionInfo": {
     "elapsed": 13,
     "status": "aborted",
     "timestamp": 1712173646898,
     "user": {
      "displayName": "CHENG WEI HERN, MARTIN _",
      "userId": "09685265324610273785"
     },
     "user_tz": -480
    },
    "id": "Gg8KiOTX5fYJ"
   },
   "outputs": [],
   "source": [
    "# load chosen model (choose bert_epoch_2 model)\n",
    "model.load_state_dict(torch.load(f'_BERT_epoch_2.model', map_location=torch.device('cpu')))"
   ]
  },
  {
   "cell_type": "code",
   "execution_count": null,
   "metadata": {
    "executionInfo": {
     "elapsed": 13,
     "status": "aborted",
     "timestamp": 1712173646898,
     "user": {
      "displayName": "CHENG WEI HERN, MARTIN _",
      "userId": "09685265324610273785"
     },
     "user_tz": -480
    },
    "id": "iJtNl_br7ZHg"
   },
   "outputs": [],
   "source": [
    "# step by step predictions on test set dataframe same as above for validation set\n",
    "# we do this to view predictions in the pandas dataframe and easily filter them and perform test error analysis\n",
    "\n",
    "pred_final = []\n",
    "\n",
    "for i, row in tqdm(test_df.iterrows(), total=test_df.shape[0]):\n",
    "    predictions = []\n",
    "\n",
    "    review = row[\"Review\"]\n",
    "    encoded_data_test_single = tokenizer.batch_encode_plus(\n",
    "    [review],\n",
    "    add_special_tokens=config.add_special_tokens,\n",
    "    return_attention_mask=config.return_attention_mask,\n",
    "    pad_to_max_length=config.pad_to_max_length,\n",
    "    max_length=config.seq_length,\n",
    "    return_tensors=config.return_tensors\n",
    "    )\n",
    "    input_ids_test = encoded_data_test_single['input_ids']\n",
    "    attention_masks_test = encoded_data_test_single['attention_mask']\n",
    "\n",
    "\n",
    "    inputs = {'input_ids':      input_ids_test.to(device),\n",
    "              'attention_mask':attention_masks_test.to(device),\n",
    "             }\n",
    "\n",
    "    with torch.no_grad():\n",
    "        outputs = model(**inputs)\n",
    "\n",
    "    logits = outputs[0]\n",
    "    logits = logits.detach().cpu().numpy()\n",
    "    predictions.append(logits)\n",
    "    predictions = np.concatenate(predictions, axis=0)\n",
    "    pred_final.append(np.argmax(predictions, axis=1).flatten()[0])"
   ]
  },
  {
   "cell_type": "code",
   "execution_count": null,
   "metadata": {
    "executionInfo": {
     "elapsed": 14,
     "status": "aborted",
     "timestamp": 1712173646899,
     "user": {
      "displayName": "CHENG WEI HERN, MARTIN _",
      "userId": "09685265324610273785"
     },
     "user_tz": -480
    },
    "id": "DjwkIZFY-1iz"
   },
   "outputs": [],
   "source": [
    "# add predicted label as \"pred\" into test_df\n",
    "test_df[\"pred\"] = pred_final\n",
    "\n",
    "# label to label name mapping\n",
    "name2label = {\"Negative\":0,\n",
    "              \"Neutral\":1,\n",
    "             \"Positive\":2\n",
    "             }\n",
    "label_names = list(name2label.keys())\n",
    "label2name = {v: k for k, v in name2label.items()}\n",
    "\n",
    "# add predicted label name as \"pred_name\" into test_df\n",
    "test_df[\"pred_name\"] = test_df.pred.apply(lambda x: label2name.get(x))"
   ]
  },
  {
   "cell_type": "code",
   "execution_count": null,
   "metadata": {
    "executionInfo": {
     "elapsed": 14,
     "status": "aborted",
     "timestamp": 1712173646899,
     "user": {
      "displayName": "CHENG WEI HERN, MARTIN _",
      "userId": "09685265324610273785"
     },
     "user_tz": -480
    },
    "id": "ZiuB_a9A_UWB"
   },
   "outputs": [],
   "source": [
    "from sklearn.metrics import classification_report\n",
    "from sklearn.metrics import confusion_matrix\n",
    "import seaborn as sns\n",
    "import matplotlib.pyplot as plt\n",
    "\n",
    "# print classification report for test_df\n",
    "print(classification_report(test_df.label_name.values, test_df.pred_name.values))\n",
    "\n",
    "# print confusion matrix for test_df\n",
    "confmat_df = pd.DataFrame(confusion_matrix(test_df.label_name.values, test_df.pred_name.values), index=label_names, columns=label_names)\n",
    "hmap = sns.heatmap(confmat_df, annot=True, fmt=\"d\", cmap=\"Blues\")\n",
    "hmap.yaxis.set_ticklabels(hmap.yaxis.get_ticklabels(), rotation=0, ha='right')\n",
    "hmap.xaxis.set_ticklabels(hmap.xaxis.get_ticklabels(), rotation=30, ha='right')\n",
    "plt.ylabel('Actual Sentiment')\n",
    "plt.xlabel('Predicted Sentiment');"
   ]
  }
 ],
 "metadata": {
  "accelerator": "GPU",
  "colab": {
   "gpuType": "T4",
   "machine_shape": "hm",
   "provenance": []
  },
  "kernelspec": {
   "display_name": "Python 3",
   "name": "python3"
  },
  "language_info": {
   "codemirror_mode": {
    "name": "ipython",
    "version": 3
   },
   "file_extension": ".py",
   "mimetype": "text/x-python",
   "name": "python",
   "nbconvert_exporter": "python",
   "pygments_lexer": "ipython3",
   "version": "3.12.2"
  },
  "widgets": {
   "application/vnd.jupyter.widget-state+json": {
    "00e65c4f9f6947189fc7351a17a5e201": {
     "model_module": "@jupyter-widgets/base",
     "model_module_version": "1.2.0",
     "model_name": "LayoutModel",
     "state": {
      "_model_module": "@jupyter-widgets/base",
      "_model_module_version": "1.2.0",
      "_model_name": "LayoutModel",
      "_view_count": null,
      "_view_module": "@jupyter-widgets/base",
      "_view_module_version": "1.2.0",
      "_view_name": "LayoutView",
      "align_content": null,
      "align_items": null,
      "align_self": null,
      "border": null,
      "bottom": null,
      "display": null,
      "flex": null,
      "flex_flow": null,
      "grid_area": null,
      "grid_auto_columns": null,
      "grid_auto_flow": null,
      "grid_auto_rows": null,
      "grid_column": null,
      "grid_gap": null,
      "grid_row": null,
      "grid_template_areas": null,
      "grid_template_columns": null,
      "grid_template_rows": null,
      "height": null,
      "justify_content": null,
      "justify_items": null,
      "left": null,
      "margin": null,
      "max_height": null,
      "max_width": null,
      "min_height": null,
      "min_width": null,
      "object_fit": null,
      "object_position": null,
      "order": null,
      "overflow": null,
      "overflow_x": null,
      "overflow_y": null,
      "padding": null,
      "right": null,
      "top": null,
      "visibility": null,
      "width": null
     }
    },
    "010d0ce17d674c6aaf8b74acc31aab89": {
     "model_module": "@jupyter-widgets/controls",
     "model_module_version": "1.5.0",
     "model_name": "FloatProgressModel",
     "state": {
      "_dom_classes": [],
      "_model_module": "@jupyter-widgets/controls",
      "_model_module_version": "1.5.0",
      "_model_name": "FloatProgressModel",
      "_view_count": null,
      "_view_module": "@jupyter-widgets/controls",
      "_view_module_version": "1.5.0",
      "_view_name": "ProgressView",
      "bar_style": "success",
      "description": "",
      "description_tooltip": null,
      "layout": "IPY_MODEL_4b6f51e00d404d64adce536eab258baa",
      "max": 466062,
      "min": 0,
      "orientation": "horizontal",
      "style": "IPY_MODEL_bca46ab8223c4f61b10a5cc364e68146",
      "value": 466062
     }
    },
    "019b8464ca824686b054865fda4225b6": {
     "model_module": "@jupyter-widgets/controls",
     "model_module_version": "1.5.0",
     "model_name": "HTMLModel",
     "state": {
      "_dom_classes": [],
      "_model_module": "@jupyter-widgets/controls",
      "_model_module_version": "1.5.0",
      "_model_name": "HTMLModel",
      "_view_count": null,
      "_view_module": "@jupyter-widgets/controls",
      "_view_module_version": "1.5.0",
      "_view_name": "HTMLView",
      "description": "",
      "description_tooltip": null,
      "layout": "IPY_MODEL_7b872505f7094b2bb68fb5886ebd4195",
      "placeholder": "​",
      "style": "IPY_MODEL_a400fdfddd194bc2b96fe55be4a3e72b",
      "value": " 232k/232k [00:00&lt;00:00, 583kB/s]"
     }
    },
    "029717588a1d4d47a833a4a08688465c": {
     "model_module": "@jupyter-widgets/base",
     "model_module_version": "1.2.0",
     "model_name": "LayoutModel",
     "state": {
      "_model_module": "@jupyter-widgets/base",
      "_model_module_version": "1.2.0",
      "_model_name": "LayoutModel",
      "_view_count": null,
      "_view_module": "@jupyter-widgets/base",
      "_view_module_version": "1.2.0",
      "_view_name": "LayoutView",
      "align_content": null,
      "align_items": null,
      "align_self": null,
      "border": null,
      "bottom": null,
      "display": null,
      "flex": null,
      "flex_flow": null,
      "grid_area": null,
      "grid_auto_columns": null,
      "grid_auto_flow": null,
      "grid_auto_rows": null,
      "grid_column": null,
      "grid_gap": null,
      "grid_row": null,
      "grid_template_areas": null,
      "grid_template_columns": null,
      "grid_template_rows": null,
      "height": null,
      "justify_content": null,
      "justify_items": null,
      "left": null,
      "margin": null,
      "max_height": null,
      "max_width": null,
      "min_height": null,
      "min_width": null,
      "object_fit": null,
      "object_position": null,
      "order": null,
      "overflow": null,
      "overflow_x": null,
      "overflow_y": null,
      "padding": null,
      "right": null,
      "top": null,
      "visibility": null,
      "width": null
     }
    },
    "06dd658abacb45d2ba68cea33b2a3c90": {
     "model_module": "@jupyter-widgets/base",
     "model_module_version": "1.2.0",
     "model_name": "LayoutModel",
     "state": {
      "_model_module": "@jupyter-widgets/base",
      "_model_module_version": "1.2.0",
      "_model_name": "LayoutModel",
      "_view_count": null,
      "_view_module": "@jupyter-widgets/base",
      "_view_module_version": "1.2.0",
      "_view_name": "LayoutView",
      "align_content": null,
      "align_items": null,
      "align_self": null,
      "border": null,
      "bottom": null,
      "display": null,
      "flex": null,
      "flex_flow": null,
      "grid_area": null,
      "grid_auto_columns": null,
      "grid_auto_flow": null,
      "grid_auto_rows": null,
      "grid_column": null,
      "grid_gap": null,
      "grid_row": null,
      "grid_template_areas": null,
      "grid_template_columns": null,
      "grid_template_rows": null,
      "height": null,
      "justify_content": null,
      "justify_items": null,
      "left": null,
      "margin": null,
      "max_height": null,
      "max_width": null,
      "min_height": null,
      "min_width": null,
      "object_fit": null,
      "object_position": null,
      "order": null,
      "overflow": null,
      "overflow_x": null,
      "overflow_y": null,
      "padding": null,
      "right": null,
      "top": null,
      "visibility": null,
      "width": null
     }
    },
    "0ad1b5846f7948599c5804897d9daa6b": {
     "model_module": "@jupyter-widgets/base",
     "model_module_version": "1.2.0",
     "model_name": "LayoutModel",
     "state": {
      "_model_module": "@jupyter-widgets/base",
      "_model_module_version": "1.2.0",
      "_model_name": "LayoutModel",
      "_view_count": null,
      "_view_module": "@jupyter-widgets/base",
      "_view_module_version": "1.2.0",
      "_view_name": "LayoutView",
      "align_content": null,
      "align_items": null,
      "align_self": null,
      "border": null,
      "bottom": null,
      "display": null,
      "flex": null,
      "flex_flow": null,
      "grid_area": null,
      "grid_auto_columns": null,
      "grid_auto_flow": null,
      "grid_auto_rows": null,
      "grid_column": null,
      "grid_gap": null,
      "grid_row": null,
      "grid_template_areas": null,
      "grid_template_columns": null,
      "grid_template_rows": null,
      "height": null,
      "justify_content": null,
      "justify_items": null,
      "left": null,
      "margin": null,
      "max_height": null,
      "max_width": null,
      "min_height": null,
      "min_width": null,
      "object_fit": null,
      "object_position": null,
      "order": null,
      "overflow": null,
      "overflow_x": null,
      "overflow_y": null,
      "padding": null,
      "right": null,
      "top": null,
      "visibility": null,
      "width": null
     }
    },
    "0cfa5fde3c4b4634aa7de0137ec719fb": {
     "model_module": "@jupyter-widgets/base",
     "model_module_version": "1.2.0",
     "model_name": "LayoutModel",
     "state": {
      "_model_module": "@jupyter-widgets/base",
      "_model_module_version": "1.2.0",
      "_model_name": "LayoutModel",
      "_view_count": null,
      "_view_module": "@jupyter-widgets/base",
      "_view_module_version": "1.2.0",
      "_view_name": "LayoutView",
      "align_content": null,
      "align_items": null,
      "align_self": null,
      "border": null,
      "bottom": null,
      "display": null,
      "flex": null,
      "flex_flow": null,
      "grid_area": null,
      "grid_auto_columns": null,
      "grid_auto_flow": null,
      "grid_auto_rows": null,
      "grid_column": null,
      "grid_gap": null,
      "grid_row": null,
      "grid_template_areas": null,
      "grid_template_columns": null,
      "grid_template_rows": null,
      "height": null,
      "justify_content": null,
      "justify_items": null,
      "left": null,
      "margin": null,
      "max_height": null,
      "max_width": null,
      "min_height": null,
      "min_width": null,
      "object_fit": null,
      "object_position": null,
      "order": null,
      "overflow": null,
      "overflow_x": null,
      "overflow_y": null,
      "padding": null,
      "right": null,
      "top": null,
      "visibility": null,
      "width": null
     }
    },
    "11e9780d6454422ca06ecf4935c0430e": {
     "model_module": "@jupyter-widgets/controls",
     "model_module_version": "1.5.0",
     "model_name": "FloatProgressModel",
     "state": {
      "_dom_classes": [],
      "_model_module": "@jupyter-widgets/controls",
      "_model_module_version": "1.5.0",
      "_model_name": "FloatProgressModel",
      "_view_count": null,
      "_view_module": "@jupyter-widgets/controls",
      "_view_module_version": "1.5.0",
      "_view_name": "ProgressView",
      "bar_style": "success",
      "description": "",
      "description_tooltip": null,
      "layout": "IPY_MODEL_9f28a4d552d44f3d9ab9ad53b2f77385",
      "max": 570,
      "min": 0,
      "orientation": "horizontal",
      "style": "IPY_MODEL_f825334ea52a410cb1e8c6acb48816e9",
      "value": 570
     }
    },
    "204f9e32d8c646c598865e1ce59ab5d3": {
     "model_module": "@jupyter-widgets/controls",
     "model_module_version": "1.5.0",
     "model_name": "HBoxModel",
     "state": {
      "_dom_classes": [],
      "_model_module": "@jupyter-widgets/controls",
      "_model_module_version": "1.5.0",
      "_model_name": "HBoxModel",
      "_view_count": null,
      "_view_module": "@jupyter-widgets/controls",
      "_view_module_version": "1.5.0",
      "_view_name": "HBoxView",
      "box_style": "",
      "children": [
       "IPY_MODEL_9189c56031f340bda99c09e06d5d9156",
       "IPY_MODEL_010d0ce17d674c6aaf8b74acc31aab89",
       "IPY_MODEL_5f097e7b02104feba405e42c709a1b67"
      ],
      "layout": "IPY_MODEL_b5bfb92ca8684932b450aea094144a92"
     }
    },
    "223da9006aa0489e8b9ac7b6da3c2f59": {
     "model_module": "@jupyter-widgets/controls",
     "model_module_version": "1.5.0",
     "model_name": "DescriptionStyleModel",
     "state": {
      "_model_module": "@jupyter-widgets/controls",
      "_model_module_version": "1.5.0",
      "_model_name": "DescriptionStyleModel",
      "_view_count": null,
      "_view_module": "@jupyter-widgets/base",
      "_view_module_version": "1.2.0",
      "_view_name": "StyleView",
      "description_width": ""
     }
    },
    "27de5e46114c4e0282f2c1022a8bb7b3": {
     "model_module": "@jupyter-widgets/controls",
     "model_module_version": "1.5.0",
     "model_name": "HTMLModel",
     "state": {
      "_dom_classes": [],
      "_model_module": "@jupyter-widgets/controls",
      "_model_module_version": "1.5.0",
      "_model_name": "HTMLModel",
      "_view_count": null,
      "_view_module": "@jupyter-widgets/controls",
      "_view_module_version": "1.5.0",
      "_view_name": "HTMLView",
      "description": "",
      "description_tooltip": null,
      "layout": "IPY_MODEL_06dd658abacb45d2ba68cea33b2a3c90",
      "placeholder": "​",
      "style": "IPY_MODEL_57d36161668243b5bf6d7829e79ce248",
      "value": " 570/570 [00:00&lt;00:00, 45.3kB/s]"
     }
    },
    "287253ae4cda4773be5225bfaaaceb7b": {
     "model_module": "@jupyter-widgets/controls",
     "model_module_version": "1.5.0",
     "model_name": "FloatProgressModel",
     "state": {
      "_dom_classes": [],
      "_model_module": "@jupyter-widgets/controls",
      "_model_module_version": "1.5.0",
      "_model_name": "FloatProgressModel",
      "_view_count": null,
      "_view_module": "@jupyter-widgets/controls",
      "_view_module_version": "1.5.0",
      "_view_name": "ProgressView",
      "bar_style": "success",
      "description": "",
      "description_tooltip": null,
      "layout": "IPY_MODEL_ed28ae354da446ccb8d4438018b36268",
      "max": 231508,
      "min": 0,
      "orientation": "horizontal",
      "style": "IPY_MODEL_cacc2798f26b401fab4d55d6ae6359e1",
      "value": 231508
     }
    },
    "2b6f9fb29277462aa62c1ea462ca8646": {
     "model_module": "@jupyter-widgets/controls",
     "model_module_version": "1.5.0",
     "model_name": "HTMLModel",
     "state": {
      "_dom_classes": [],
      "_model_module": "@jupyter-widgets/controls",
      "_model_module_version": "1.5.0",
      "_model_name": "HTMLModel",
      "_view_count": null,
      "_view_module": "@jupyter-widgets/controls",
      "_view_module_version": "1.5.0",
      "_view_name": "HTMLView",
      "description": "",
      "description_tooltip": null,
      "layout": "IPY_MODEL_90598ef731984ee78181cf14b7f7104a",
      "placeholder": "​",
      "style": "IPY_MODEL_2ce834f9d7804cb1a6521b2a62770824",
      "value": "model.safetensors: 100%"
     }
    },
    "2ce834f9d7804cb1a6521b2a62770824": {
     "model_module": "@jupyter-widgets/controls",
     "model_module_version": "1.5.0",
     "model_name": "DescriptionStyleModel",
     "state": {
      "_model_module": "@jupyter-widgets/controls",
      "_model_module_version": "1.5.0",
      "_model_name": "DescriptionStyleModel",
      "_view_count": null,
      "_view_module": "@jupyter-widgets/base",
      "_view_module_version": "1.2.0",
      "_view_name": "StyleView",
      "description_width": ""
     }
    },
    "30e639a4217446fda87e46251894aeef": {
     "model_module": "@jupyter-widgets/base",
     "model_module_version": "1.2.0",
     "model_name": "LayoutModel",
     "state": {
      "_model_module": "@jupyter-widgets/base",
      "_model_module_version": "1.2.0",
      "_model_name": "LayoutModel",
      "_view_count": null,
      "_view_module": "@jupyter-widgets/base",
      "_view_module_version": "1.2.0",
      "_view_name": "LayoutView",
      "align_content": null,
      "align_items": null,
      "align_self": null,
      "border": null,
      "bottom": null,
      "display": null,
      "flex": null,
      "flex_flow": null,
      "grid_area": null,
      "grid_auto_columns": null,
      "grid_auto_flow": null,
      "grid_auto_rows": null,
      "grid_column": null,
      "grid_gap": null,
      "grid_row": null,
      "grid_template_areas": null,
      "grid_template_columns": null,
      "grid_template_rows": null,
      "height": null,
      "justify_content": null,
      "justify_items": null,
      "left": null,
      "margin": null,
      "max_height": null,
      "max_width": null,
      "min_height": null,
      "min_width": null,
      "object_fit": null,
      "object_position": null,
      "order": null,
      "overflow": null,
      "overflow_x": null,
      "overflow_y": null,
      "padding": null,
      "right": null,
      "top": null,
      "visibility": null,
      "width": null
     }
    },
    "3708afa1095141cb9bdbf1b83ceaaa5d": {
     "model_module": "@jupyter-widgets/base",
     "model_module_version": "1.2.0",
     "model_name": "LayoutModel",
     "state": {
      "_model_module": "@jupyter-widgets/base",
      "_model_module_version": "1.2.0",
      "_model_name": "LayoutModel",
      "_view_count": null,
      "_view_module": "@jupyter-widgets/base",
      "_view_module_version": "1.2.0",
      "_view_name": "LayoutView",
      "align_content": null,
      "align_items": null,
      "align_self": null,
      "border": null,
      "bottom": null,
      "display": null,
      "flex": null,
      "flex_flow": null,
      "grid_area": null,
      "grid_auto_columns": null,
      "grid_auto_flow": null,
      "grid_auto_rows": null,
      "grid_column": null,
      "grid_gap": null,
      "grid_row": null,
      "grid_template_areas": null,
      "grid_template_columns": null,
      "grid_template_rows": null,
      "height": null,
      "justify_content": null,
      "justify_items": null,
      "left": null,
      "margin": null,
      "max_height": null,
      "max_width": null,
      "min_height": null,
      "min_width": null,
      "object_fit": null,
      "object_position": null,
      "order": null,
      "overflow": null,
      "overflow_x": null,
      "overflow_y": null,
      "padding": null,
      "right": null,
      "top": null,
      "visibility": null,
      "width": null
     }
    },
    "3971fa6fb879439aab087a88ee87b614": {
     "model_module": "@jupyter-widgets/base",
     "model_module_version": "1.2.0",
     "model_name": "LayoutModel",
     "state": {
      "_model_module": "@jupyter-widgets/base",
      "_model_module_version": "1.2.0",
      "_model_name": "LayoutModel",
      "_view_count": null,
      "_view_module": "@jupyter-widgets/base",
      "_view_module_version": "1.2.0",
      "_view_name": "LayoutView",
      "align_content": null,
      "align_items": null,
      "align_self": null,
      "border": null,
      "bottom": null,
      "display": null,
      "flex": null,
      "flex_flow": null,
      "grid_area": null,
      "grid_auto_columns": null,
      "grid_auto_flow": null,
      "grid_auto_rows": null,
      "grid_column": null,
      "grid_gap": null,
      "grid_row": null,
      "grid_template_areas": null,
      "grid_template_columns": null,
      "grid_template_rows": null,
      "height": null,
      "justify_content": null,
      "justify_items": null,
      "left": null,
      "margin": null,
      "max_height": null,
      "max_width": null,
      "min_height": null,
      "min_width": null,
      "object_fit": null,
      "object_position": null,
      "order": null,
      "overflow": null,
      "overflow_x": null,
      "overflow_y": null,
      "padding": null,
      "right": null,
      "top": null,
      "visibility": null,
      "width": null
     }
    },
    "3cef2a241cd4483f92a39741c1caf619": {
     "model_module": "@jupyter-widgets/controls",
     "model_module_version": "1.5.0",
     "model_name": "ProgressStyleModel",
     "state": {
      "_model_module": "@jupyter-widgets/controls",
      "_model_module_version": "1.5.0",
      "_model_name": "ProgressStyleModel",
      "_view_count": null,
      "_view_module": "@jupyter-widgets/base",
      "_view_module_version": "1.2.0",
      "_view_name": "StyleView",
      "bar_color": null,
      "description_width": ""
     }
    },
    "4a0458e7d5fd49fb90cbc54d0b1a0a3f": {
     "model_module": "@jupyter-widgets/controls",
     "model_module_version": "1.5.0",
     "model_name": "HTMLModel",
     "state": {
      "_dom_classes": [],
      "_model_module": "@jupyter-widgets/controls",
      "_model_module_version": "1.5.0",
      "_model_name": "HTMLModel",
      "_view_count": null,
      "_view_module": "@jupyter-widgets/controls",
      "_view_module_version": "1.5.0",
      "_view_name": "HTMLView",
      "description": "",
      "description_tooltip": null,
      "layout": "IPY_MODEL_caf0504c49f244618626ab468184ee1e",
      "placeholder": "​",
      "style": "IPY_MODEL_501a3d8d534944848fc9a43cf4c603e9",
      "value": "config.json: 100%"
     }
    },
    "4b6f51e00d404d64adce536eab258baa": {
     "model_module": "@jupyter-widgets/base",
     "model_module_version": "1.2.0",
     "model_name": "LayoutModel",
     "state": {
      "_model_module": "@jupyter-widgets/base",
      "_model_module_version": "1.2.0",
      "_model_name": "LayoutModel",
      "_view_count": null,
      "_view_module": "@jupyter-widgets/base",
      "_view_module_version": "1.2.0",
      "_view_name": "LayoutView",
      "align_content": null,
      "align_items": null,
      "align_self": null,
      "border": null,
      "bottom": null,
      "display": null,
      "flex": null,
      "flex_flow": null,
      "grid_area": null,
      "grid_auto_columns": null,
      "grid_auto_flow": null,
      "grid_auto_rows": null,
      "grid_column": null,
      "grid_gap": null,
      "grid_row": null,
      "grid_template_areas": null,
      "grid_template_columns": null,
      "grid_template_rows": null,
      "height": null,
      "justify_content": null,
      "justify_items": null,
      "left": null,
      "margin": null,
      "max_height": null,
      "max_width": null,
      "min_height": null,
      "min_width": null,
      "object_fit": null,
      "object_position": null,
      "order": null,
      "overflow": null,
      "overflow_x": null,
      "overflow_y": null,
      "padding": null,
      "right": null,
      "top": null,
      "visibility": null,
      "width": null
     }
    },
    "501a3d8d534944848fc9a43cf4c603e9": {
     "model_module": "@jupyter-widgets/controls",
     "model_module_version": "1.5.0",
     "model_name": "DescriptionStyleModel",
     "state": {
      "_model_module": "@jupyter-widgets/controls",
      "_model_module_version": "1.5.0",
      "_model_name": "DescriptionStyleModel",
      "_view_count": null,
      "_view_module": "@jupyter-widgets/base",
      "_view_module_version": "1.2.0",
      "_view_name": "StyleView",
      "description_width": ""
     }
    },
    "501d0ccd88b14dd989f6b918e2aa7308": {
     "model_module": "@jupyter-widgets/controls",
     "model_module_version": "1.5.0",
     "model_name": "HBoxModel",
     "state": {
      "_dom_classes": [],
      "_model_module": "@jupyter-widgets/controls",
      "_model_module_version": "1.5.0",
      "_model_name": "HBoxModel",
      "_view_count": null,
      "_view_module": "@jupyter-widgets/controls",
      "_view_module_version": "1.5.0",
      "_view_name": "HBoxView",
      "box_style": "",
      "children": [
       "IPY_MODEL_88c4901035354b0cbdfae42f90a490ee",
       "IPY_MODEL_c2046a428d8245bebb942e9a172de30c",
       "IPY_MODEL_bb38542c81ee4f929c7461888230af06"
      ],
      "layout": "IPY_MODEL_30e639a4217446fda87e46251894aeef"
     }
    },
    "57d36161668243b5bf6d7829e79ce248": {
     "model_module": "@jupyter-widgets/controls",
     "model_module_version": "1.5.0",
     "model_name": "DescriptionStyleModel",
     "state": {
      "_model_module": "@jupyter-widgets/controls",
      "_model_module_version": "1.5.0",
      "_model_name": "DescriptionStyleModel",
      "_view_count": null,
      "_view_module": "@jupyter-widgets/base",
      "_view_module_version": "1.2.0",
      "_view_name": "StyleView",
      "description_width": ""
     }
    },
    "57e0876367ef444a82011624ebc9bab2": {
     "model_module": "@jupyter-widgets/base",
     "model_module_version": "1.2.0",
     "model_name": "LayoutModel",
     "state": {
      "_model_module": "@jupyter-widgets/base",
      "_model_module_version": "1.2.0",
      "_model_name": "LayoutModel",
      "_view_count": null,
      "_view_module": "@jupyter-widgets/base",
      "_view_module_version": "1.2.0",
      "_view_name": "LayoutView",
      "align_content": null,
      "align_items": null,
      "align_self": null,
      "border": null,
      "bottom": null,
      "display": null,
      "flex": null,
      "flex_flow": null,
      "grid_area": null,
      "grid_auto_columns": null,
      "grid_auto_flow": null,
      "grid_auto_rows": null,
      "grid_column": null,
      "grid_gap": null,
      "grid_row": null,
      "grid_template_areas": null,
      "grid_template_columns": null,
      "grid_template_rows": null,
      "height": null,
      "justify_content": null,
      "justify_items": null,
      "left": null,
      "margin": null,
      "max_height": null,
      "max_width": null,
      "min_height": null,
      "min_width": null,
      "object_fit": null,
      "object_position": null,
      "order": null,
      "overflow": null,
      "overflow_x": null,
      "overflow_y": null,
      "padding": null,
      "right": null,
      "top": null,
      "visibility": null,
      "width": null
     }
    },
    "58dc40e38a3c4e9b9b56db8ed0ce9809": {
     "model_module": "@jupyter-widgets/controls",
     "model_module_version": "1.5.0",
     "model_name": "HTMLModel",
     "state": {
      "_dom_classes": [],
      "_model_module": "@jupyter-widgets/controls",
      "_model_module_version": "1.5.0",
      "_model_name": "HTMLModel",
      "_view_count": null,
      "_view_module": "@jupyter-widgets/controls",
      "_view_module_version": "1.5.0",
      "_view_name": "HTMLView",
      "description": "",
      "description_tooltip": null,
      "layout": "IPY_MODEL_5e9dbf9396104505a06b1d64f91f41c7",
      "placeholder": "​",
      "style": "IPY_MODEL_a0b83ab8b0a94435a795cb4a5936faa4",
      "value": "vocab.txt: 100%"
     }
    },
    "5e9dbf9396104505a06b1d64f91f41c7": {
     "model_module": "@jupyter-widgets/base",
     "model_module_version": "1.2.0",
     "model_name": "LayoutModel",
     "state": {
      "_model_module": "@jupyter-widgets/base",
      "_model_module_version": "1.2.0",
      "_model_name": "LayoutModel",
      "_view_count": null,
      "_view_module": "@jupyter-widgets/base",
      "_view_module_version": "1.2.0",
      "_view_name": "LayoutView",
      "align_content": null,
      "align_items": null,
      "align_self": null,
      "border": null,
      "bottom": null,
      "display": null,
      "flex": null,
      "flex_flow": null,
      "grid_area": null,
      "grid_auto_columns": null,
      "grid_auto_flow": null,
      "grid_auto_rows": null,
      "grid_column": null,
      "grid_gap": null,
      "grid_row": null,
      "grid_template_areas": null,
      "grid_template_columns": null,
      "grid_template_rows": null,
      "height": null,
      "justify_content": null,
      "justify_items": null,
      "left": null,
      "margin": null,
      "max_height": null,
      "max_width": null,
      "min_height": null,
      "min_width": null,
      "object_fit": null,
      "object_position": null,
      "order": null,
      "overflow": null,
      "overflow_x": null,
      "overflow_y": null,
      "padding": null,
      "right": null,
      "top": null,
      "visibility": null,
      "width": null
     }
    },
    "5f097e7b02104feba405e42c709a1b67": {
     "model_module": "@jupyter-widgets/controls",
     "model_module_version": "1.5.0",
     "model_name": "HTMLModel",
     "state": {
      "_dom_classes": [],
      "_model_module": "@jupyter-widgets/controls",
      "_model_module_version": "1.5.0",
      "_model_name": "HTMLModel",
      "_view_count": null,
      "_view_module": "@jupyter-widgets/controls",
      "_view_module_version": "1.5.0",
      "_view_name": "HTMLView",
      "description": "",
      "description_tooltip": null,
      "layout": "IPY_MODEL_57e0876367ef444a82011624ebc9bab2",
      "placeholder": "​",
      "style": "IPY_MODEL_9ef27e5b34244db785eae5d7367681b9",
      "value": " 466k/466k [00:00&lt;00:00, 772kB/s]"
     }
    },
    "7b872505f7094b2bb68fb5886ebd4195": {
     "model_module": "@jupyter-widgets/base",
     "model_module_version": "1.2.0",
     "model_name": "LayoutModel",
     "state": {
      "_model_module": "@jupyter-widgets/base",
      "_model_module_version": "1.2.0",
      "_model_name": "LayoutModel",
      "_view_count": null,
      "_view_module": "@jupyter-widgets/base",
      "_view_module_version": "1.2.0",
      "_view_name": "LayoutView",
      "align_content": null,
      "align_items": null,
      "align_self": null,
      "border": null,
      "bottom": null,
      "display": null,
      "flex": null,
      "flex_flow": null,
      "grid_area": null,
      "grid_auto_columns": null,
      "grid_auto_flow": null,
      "grid_auto_rows": null,
      "grid_column": null,
      "grid_gap": null,
      "grid_row": null,
      "grid_template_areas": null,
      "grid_template_columns": null,
      "grid_template_rows": null,
      "height": null,
      "justify_content": null,
      "justify_items": null,
      "left": null,
      "margin": null,
      "max_height": null,
      "max_width": null,
      "min_height": null,
      "min_width": null,
      "object_fit": null,
      "object_position": null,
      "order": null,
      "overflow": null,
      "overflow_x": null,
      "overflow_y": null,
      "padding": null,
      "right": null,
      "top": null,
      "visibility": null,
      "width": null
     }
    },
    "805df19faa6849f5ab6f7bd0e3d73a44": {
     "model_module": "@jupyter-widgets/controls",
     "model_module_version": "1.5.0",
     "model_name": "DescriptionStyleModel",
     "state": {
      "_model_module": "@jupyter-widgets/controls",
      "_model_module_version": "1.5.0",
      "_model_name": "DescriptionStyleModel",
      "_view_count": null,
      "_view_module": "@jupyter-widgets/base",
      "_view_module_version": "1.2.0",
      "_view_name": "StyleView",
      "description_width": ""
     }
    },
    "80f3d1e91d3646aca2a7a63de5ea7993": {
     "model_module": "@jupyter-widgets/controls",
     "model_module_version": "1.5.0",
     "model_name": "HBoxModel",
     "state": {
      "_dom_classes": [],
      "_model_module": "@jupyter-widgets/controls",
      "_model_module_version": "1.5.0",
      "_model_name": "HBoxModel",
      "_view_count": null,
      "_view_module": "@jupyter-widgets/controls",
      "_view_module_version": "1.5.0",
      "_view_name": "HBoxView",
      "box_style": "",
      "children": [
       "IPY_MODEL_2b6f9fb29277462aa62c1ea462ca8646",
       "IPY_MODEL_aedb9f2d55c8404c8d50596a65105b57",
       "IPY_MODEL_abd8f2385fd84aaa9933727683ab646c"
      ],
      "layout": "IPY_MODEL_0ad1b5846f7948599c5804897d9daa6b"
     }
    },
    "88c4901035354b0cbdfae42f90a490ee": {
     "model_module": "@jupyter-widgets/controls",
     "model_module_version": "1.5.0",
     "model_name": "HTMLModel",
     "state": {
      "_dom_classes": [],
      "_model_module": "@jupyter-widgets/controls",
      "_model_module_version": "1.5.0",
      "_model_name": "HTMLModel",
      "_view_count": null,
      "_view_module": "@jupyter-widgets/controls",
      "_view_module_version": "1.5.0",
      "_view_name": "HTMLView",
      "description": "",
      "description_tooltip": null,
      "layout": "IPY_MODEL_3708afa1095141cb9bdbf1b83ceaaa5d",
      "placeholder": "​",
      "style": "IPY_MODEL_cdc588a2856f4c46955583acc53b5de8",
      "value": "tokenizer_config.json: 100%"
     }
    },
    "90598ef731984ee78181cf14b7f7104a": {
     "model_module": "@jupyter-widgets/base",
     "model_module_version": "1.2.0",
     "model_name": "LayoutModel",
     "state": {
      "_model_module": "@jupyter-widgets/base",
      "_model_module_version": "1.2.0",
      "_model_name": "LayoutModel",
      "_view_count": null,
      "_view_module": "@jupyter-widgets/base",
      "_view_module_version": "1.2.0",
      "_view_name": "LayoutView",
      "align_content": null,
      "align_items": null,
      "align_self": null,
      "border": null,
      "bottom": null,
      "display": null,
      "flex": null,
      "flex_flow": null,
      "grid_area": null,
      "grid_auto_columns": null,
      "grid_auto_flow": null,
      "grid_auto_rows": null,
      "grid_column": null,
      "grid_gap": null,
      "grid_row": null,
      "grid_template_areas": null,
      "grid_template_columns": null,
      "grid_template_rows": null,
      "height": null,
      "justify_content": null,
      "justify_items": null,
      "left": null,
      "margin": null,
      "max_height": null,
      "max_width": null,
      "min_height": null,
      "min_width": null,
      "object_fit": null,
      "object_position": null,
      "order": null,
      "overflow": null,
      "overflow_x": null,
      "overflow_y": null,
      "padding": null,
      "right": null,
      "top": null,
      "visibility": null,
      "width": null
     }
    },
    "9189c56031f340bda99c09e06d5d9156": {
     "model_module": "@jupyter-widgets/controls",
     "model_module_version": "1.5.0",
     "model_name": "HTMLModel",
     "state": {
      "_dom_classes": [],
      "_model_module": "@jupyter-widgets/controls",
      "_model_module_version": "1.5.0",
      "_model_name": "HTMLModel",
      "_view_count": null,
      "_view_module": "@jupyter-widgets/controls",
      "_view_module_version": "1.5.0",
      "_view_name": "HTMLView",
      "description": "",
      "description_tooltip": null,
      "layout": "IPY_MODEL_029717588a1d4d47a833a4a08688465c",
      "placeholder": "​",
      "style": "IPY_MODEL_223da9006aa0489e8b9ac7b6da3c2f59",
      "value": "tokenizer.json: 100%"
     }
    },
    "92e493687daf43bca8e80545a45d873f": {
     "model_module": "@jupyter-widgets/controls",
     "model_module_version": "1.5.0",
     "model_name": "DescriptionStyleModel",
     "state": {
      "_model_module": "@jupyter-widgets/controls",
      "_model_module_version": "1.5.0",
      "_model_name": "DescriptionStyleModel",
      "_view_count": null,
      "_view_module": "@jupyter-widgets/base",
      "_view_module_version": "1.2.0",
      "_view_name": "StyleView",
      "description_width": ""
     }
    },
    "9ef27e5b34244db785eae5d7367681b9": {
     "model_module": "@jupyter-widgets/controls",
     "model_module_version": "1.5.0",
     "model_name": "DescriptionStyleModel",
     "state": {
      "_model_module": "@jupyter-widgets/controls",
      "_model_module_version": "1.5.0",
      "_model_name": "DescriptionStyleModel",
      "_view_count": null,
      "_view_module": "@jupyter-widgets/base",
      "_view_module_version": "1.2.0",
      "_view_name": "StyleView",
      "description_width": ""
     }
    },
    "9f28a4d552d44f3d9ab9ad53b2f77385": {
     "model_module": "@jupyter-widgets/base",
     "model_module_version": "1.2.0",
     "model_name": "LayoutModel",
     "state": {
      "_model_module": "@jupyter-widgets/base",
      "_model_module_version": "1.2.0",
      "_model_name": "LayoutModel",
      "_view_count": null,
      "_view_module": "@jupyter-widgets/base",
      "_view_module_version": "1.2.0",
      "_view_name": "LayoutView",
      "align_content": null,
      "align_items": null,
      "align_self": null,
      "border": null,
      "bottom": null,
      "display": null,
      "flex": null,
      "flex_flow": null,
      "grid_area": null,
      "grid_auto_columns": null,
      "grid_auto_flow": null,
      "grid_auto_rows": null,
      "grid_column": null,
      "grid_gap": null,
      "grid_row": null,
      "grid_template_areas": null,
      "grid_template_columns": null,
      "grid_template_rows": null,
      "height": null,
      "justify_content": null,
      "justify_items": null,
      "left": null,
      "margin": null,
      "max_height": null,
      "max_width": null,
      "min_height": null,
      "min_width": null,
      "object_fit": null,
      "object_position": null,
      "order": null,
      "overflow": null,
      "overflow_x": null,
      "overflow_y": null,
      "padding": null,
      "right": null,
      "top": null,
      "visibility": null,
      "width": null
     }
    },
    "a0b83ab8b0a94435a795cb4a5936faa4": {
     "model_module": "@jupyter-widgets/controls",
     "model_module_version": "1.5.0",
     "model_name": "DescriptionStyleModel",
     "state": {
      "_model_module": "@jupyter-widgets/controls",
      "_model_module_version": "1.5.0",
      "_model_name": "DescriptionStyleModel",
      "_view_count": null,
      "_view_module": "@jupyter-widgets/base",
      "_view_module_version": "1.2.0",
      "_view_name": "StyleView",
      "description_width": ""
     }
    },
    "a400fdfddd194bc2b96fe55be4a3e72b": {
     "model_module": "@jupyter-widgets/controls",
     "model_module_version": "1.5.0",
     "model_name": "DescriptionStyleModel",
     "state": {
      "_model_module": "@jupyter-widgets/controls",
      "_model_module_version": "1.5.0",
      "_model_name": "DescriptionStyleModel",
      "_view_count": null,
      "_view_module": "@jupyter-widgets/base",
      "_view_module_version": "1.2.0",
      "_view_name": "StyleView",
      "description_width": ""
     }
    },
    "ab747be6cbb44d44a18759d453c6398f": {
     "model_module": "@jupyter-widgets/base",
     "model_module_version": "1.2.0",
     "model_name": "LayoutModel",
     "state": {
      "_model_module": "@jupyter-widgets/base",
      "_model_module_version": "1.2.0",
      "_model_name": "LayoutModel",
      "_view_count": null,
      "_view_module": "@jupyter-widgets/base",
      "_view_module_version": "1.2.0",
      "_view_name": "LayoutView",
      "align_content": null,
      "align_items": null,
      "align_self": null,
      "border": null,
      "bottom": null,
      "display": null,
      "flex": null,
      "flex_flow": null,
      "grid_area": null,
      "grid_auto_columns": null,
      "grid_auto_flow": null,
      "grid_auto_rows": null,
      "grid_column": null,
      "grid_gap": null,
      "grid_row": null,
      "grid_template_areas": null,
      "grid_template_columns": null,
      "grid_template_rows": null,
      "height": null,
      "justify_content": null,
      "justify_items": null,
      "left": null,
      "margin": null,
      "max_height": null,
      "max_width": null,
      "min_height": null,
      "min_width": null,
      "object_fit": null,
      "object_position": null,
      "order": null,
      "overflow": null,
      "overflow_x": null,
      "overflow_y": null,
      "padding": null,
      "right": null,
      "top": null,
      "visibility": null,
      "width": null
     }
    },
    "abd8f2385fd84aaa9933727683ab646c": {
     "model_module": "@jupyter-widgets/controls",
     "model_module_version": "1.5.0",
     "model_name": "HTMLModel",
     "state": {
      "_dom_classes": [],
      "_model_module": "@jupyter-widgets/controls",
      "_model_module_version": "1.5.0",
      "_model_name": "HTMLModel",
      "_view_count": null,
      "_view_module": "@jupyter-widgets/controls",
      "_view_module_version": "1.5.0",
      "_view_name": "HTMLView",
      "description": "",
      "description_tooltip": null,
      "layout": "IPY_MODEL_ab747be6cbb44d44a18759d453c6398f",
      "placeholder": "​",
      "style": "IPY_MODEL_92e493687daf43bca8e80545a45d873f",
      "value": " 440M/440M [00:04&lt;00:00, 93.8MB/s]"
     }
    },
    "aedb9f2d55c8404c8d50596a65105b57": {
     "model_module": "@jupyter-widgets/controls",
     "model_module_version": "1.5.0",
     "model_name": "FloatProgressModel",
     "state": {
      "_dom_classes": [],
      "_model_module": "@jupyter-widgets/controls",
      "_model_module_version": "1.5.0",
      "_model_name": "FloatProgressModel",
      "_view_count": null,
      "_view_module": "@jupyter-widgets/controls",
      "_view_module_version": "1.5.0",
      "_view_name": "ProgressView",
      "bar_style": "success",
      "description": "",
      "description_tooltip": null,
      "layout": "IPY_MODEL_0cfa5fde3c4b4634aa7de0137ec719fb",
      "max": 440449768,
      "min": 0,
      "orientation": "horizontal",
      "style": "IPY_MODEL_3cef2a241cd4483f92a39741c1caf619",
      "value": 440449768
     }
    },
    "b5bfb92ca8684932b450aea094144a92": {
     "model_module": "@jupyter-widgets/base",
     "model_module_version": "1.2.0",
     "model_name": "LayoutModel",
     "state": {
      "_model_module": "@jupyter-widgets/base",
      "_model_module_version": "1.2.0",
      "_model_name": "LayoutModel",
      "_view_count": null,
      "_view_module": "@jupyter-widgets/base",
      "_view_module_version": "1.2.0",
      "_view_name": "LayoutView",
      "align_content": null,
      "align_items": null,
      "align_self": null,
      "border": null,
      "bottom": null,
      "display": null,
      "flex": null,
      "flex_flow": null,
      "grid_area": null,
      "grid_auto_columns": null,
      "grid_auto_flow": null,
      "grid_auto_rows": null,
      "grid_column": null,
      "grid_gap": null,
      "grid_row": null,
      "grid_template_areas": null,
      "grid_template_columns": null,
      "grid_template_rows": null,
      "height": null,
      "justify_content": null,
      "justify_items": null,
      "left": null,
      "margin": null,
      "max_height": null,
      "max_width": null,
      "min_height": null,
      "min_width": null,
      "object_fit": null,
      "object_position": null,
      "order": null,
      "overflow": null,
      "overflow_x": null,
      "overflow_y": null,
      "padding": null,
      "right": null,
      "top": null,
      "visibility": null,
      "width": null
     }
    },
    "bb38542c81ee4f929c7461888230af06": {
     "model_module": "@jupyter-widgets/controls",
     "model_module_version": "1.5.0",
     "model_name": "HTMLModel",
     "state": {
      "_dom_classes": [],
      "_model_module": "@jupyter-widgets/controls",
      "_model_module_version": "1.5.0",
      "_model_name": "HTMLModel",
      "_view_count": null,
      "_view_module": "@jupyter-widgets/controls",
      "_view_module_version": "1.5.0",
      "_view_name": "HTMLView",
      "description": "",
      "description_tooltip": null,
      "layout": "IPY_MODEL_c555790c5d7f4923b9d44cd662ee5f57",
      "placeholder": "​",
      "style": "IPY_MODEL_805df19faa6849f5ab6f7bd0e3d73a44",
      "value": " 48.0/48.0 [00:00&lt;00:00, 2.69kB/s]"
     }
    },
    "bca46ab8223c4f61b10a5cc364e68146": {
     "model_module": "@jupyter-widgets/controls",
     "model_module_version": "1.5.0",
     "model_name": "ProgressStyleModel",
     "state": {
      "_model_module": "@jupyter-widgets/controls",
      "_model_module_version": "1.5.0",
      "_model_name": "ProgressStyleModel",
      "_view_count": null,
      "_view_module": "@jupyter-widgets/base",
      "_view_module_version": "1.2.0",
      "_view_name": "StyleView",
      "bar_color": null,
      "description_width": ""
     }
    },
    "c2046a428d8245bebb942e9a172de30c": {
     "model_module": "@jupyter-widgets/controls",
     "model_module_version": "1.5.0",
     "model_name": "FloatProgressModel",
     "state": {
      "_dom_classes": [],
      "_model_module": "@jupyter-widgets/controls",
      "_model_module_version": "1.5.0",
      "_model_name": "FloatProgressModel",
      "_view_count": null,
      "_view_module": "@jupyter-widgets/controls",
      "_view_module_version": "1.5.0",
      "_view_name": "ProgressView",
      "bar_style": "success",
      "description": "",
      "description_tooltip": null,
      "layout": "IPY_MODEL_e5a9b94efc1c40cabee3156790fcd863",
      "max": 48,
      "min": 0,
      "orientation": "horizontal",
      "style": "IPY_MODEL_eff14a73c67344958ec6f6449ee31f87",
      "value": 48
     }
    },
    "c555790c5d7f4923b9d44cd662ee5f57": {
     "model_module": "@jupyter-widgets/base",
     "model_module_version": "1.2.0",
     "model_name": "LayoutModel",
     "state": {
      "_model_module": "@jupyter-widgets/base",
      "_model_module_version": "1.2.0",
      "_model_name": "LayoutModel",
      "_view_count": null,
      "_view_module": "@jupyter-widgets/base",
      "_view_module_version": "1.2.0",
      "_view_name": "LayoutView",
      "align_content": null,
      "align_items": null,
      "align_self": null,
      "border": null,
      "bottom": null,
      "display": null,
      "flex": null,
      "flex_flow": null,
      "grid_area": null,
      "grid_auto_columns": null,
      "grid_auto_flow": null,
      "grid_auto_rows": null,
      "grid_column": null,
      "grid_gap": null,
      "grid_row": null,
      "grid_template_areas": null,
      "grid_template_columns": null,
      "grid_template_rows": null,
      "height": null,
      "justify_content": null,
      "justify_items": null,
      "left": null,
      "margin": null,
      "max_height": null,
      "max_width": null,
      "min_height": null,
      "min_width": null,
      "object_fit": null,
      "object_position": null,
      "order": null,
      "overflow": null,
      "overflow_x": null,
      "overflow_y": null,
      "padding": null,
      "right": null,
      "top": null,
      "visibility": null,
      "width": null
     }
    },
    "cacc2798f26b401fab4d55d6ae6359e1": {
     "model_module": "@jupyter-widgets/controls",
     "model_module_version": "1.5.0",
     "model_name": "ProgressStyleModel",
     "state": {
      "_model_module": "@jupyter-widgets/controls",
      "_model_module_version": "1.5.0",
      "_model_name": "ProgressStyleModel",
      "_view_count": null,
      "_view_module": "@jupyter-widgets/base",
      "_view_module_version": "1.2.0",
      "_view_name": "StyleView",
      "bar_color": null,
      "description_width": ""
     }
    },
    "caf0504c49f244618626ab468184ee1e": {
     "model_module": "@jupyter-widgets/base",
     "model_module_version": "1.2.0",
     "model_name": "LayoutModel",
     "state": {
      "_model_module": "@jupyter-widgets/base",
      "_model_module_version": "1.2.0",
      "_model_name": "LayoutModel",
      "_view_count": null,
      "_view_module": "@jupyter-widgets/base",
      "_view_module_version": "1.2.0",
      "_view_name": "LayoutView",
      "align_content": null,
      "align_items": null,
      "align_self": null,
      "border": null,
      "bottom": null,
      "display": null,
      "flex": null,
      "flex_flow": null,
      "grid_area": null,
      "grid_auto_columns": null,
      "grid_auto_flow": null,
      "grid_auto_rows": null,
      "grid_column": null,
      "grid_gap": null,
      "grid_row": null,
      "grid_template_areas": null,
      "grid_template_columns": null,
      "grid_template_rows": null,
      "height": null,
      "justify_content": null,
      "justify_items": null,
      "left": null,
      "margin": null,
      "max_height": null,
      "max_width": null,
      "min_height": null,
      "min_width": null,
      "object_fit": null,
      "object_position": null,
      "order": null,
      "overflow": null,
      "overflow_x": null,
      "overflow_y": null,
      "padding": null,
      "right": null,
      "top": null,
      "visibility": null,
      "width": null
     }
    },
    "cdc588a2856f4c46955583acc53b5de8": {
     "model_module": "@jupyter-widgets/controls",
     "model_module_version": "1.5.0",
     "model_name": "DescriptionStyleModel",
     "state": {
      "_model_module": "@jupyter-widgets/controls",
      "_model_module_version": "1.5.0",
      "_model_name": "DescriptionStyleModel",
      "_view_count": null,
      "_view_module": "@jupyter-widgets/base",
      "_view_module_version": "1.2.0",
      "_view_name": "StyleView",
      "description_width": ""
     }
    },
    "e5a9b94efc1c40cabee3156790fcd863": {
     "model_module": "@jupyter-widgets/base",
     "model_module_version": "1.2.0",
     "model_name": "LayoutModel",
     "state": {
      "_model_module": "@jupyter-widgets/base",
      "_model_module_version": "1.2.0",
      "_model_name": "LayoutModel",
      "_view_count": null,
      "_view_module": "@jupyter-widgets/base",
      "_view_module_version": "1.2.0",
      "_view_name": "LayoutView",
      "align_content": null,
      "align_items": null,
      "align_self": null,
      "border": null,
      "bottom": null,
      "display": null,
      "flex": null,
      "flex_flow": null,
      "grid_area": null,
      "grid_auto_columns": null,
      "grid_auto_flow": null,
      "grid_auto_rows": null,
      "grid_column": null,
      "grid_gap": null,
      "grid_row": null,
      "grid_template_areas": null,
      "grid_template_columns": null,
      "grid_template_rows": null,
      "height": null,
      "justify_content": null,
      "justify_items": null,
      "left": null,
      "margin": null,
      "max_height": null,
      "max_width": null,
      "min_height": null,
      "min_width": null,
      "object_fit": null,
      "object_position": null,
      "order": null,
      "overflow": null,
      "overflow_x": null,
      "overflow_y": null,
      "padding": null,
      "right": null,
      "top": null,
      "visibility": null,
      "width": null
     }
    },
    "ed28ae354da446ccb8d4438018b36268": {
     "model_module": "@jupyter-widgets/base",
     "model_module_version": "1.2.0",
     "model_name": "LayoutModel",
     "state": {
      "_model_module": "@jupyter-widgets/base",
      "_model_module_version": "1.2.0",
      "_model_name": "LayoutModel",
      "_view_count": null,
      "_view_module": "@jupyter-widgets/base",
      "_view_module_version": "1.2.0",
      "_view_name": "LayoutView",
      "align_content": null,
      "align_items": null,
      "align_self": null,
      "border": null,
      "bottom": null,
      "display": null,
      "flex": null,
      "flex_flow": null,
      "grid_area": null,
      "grid_auto_columns": null,
      "grid_auto_flow": null,
      "grid_auto_rows": null,
      "grid_column": null,
      "grid_gap": null,
      "grid_row": null,
      "grid_template_areas": null,
      "grid_template_columns": null,
      "grid_template_rows": null,
      "height": null,
      "justify_content": null,
      "justify_items": null,
      "left": null,
      "margin": null,
      "max_height": null,
      "max_width": null,
      "min_height": null,
      "min_width": null,
      "object_fit": null,
      "object_position": null,
      "order": null,
      "overflow": null,
      "overflow_x": null,
      "overflow_y": null,
      "padding": null,
      "right": null,
      "top": null,
      "visibility": null,
      "width": null
     }
    },
    "eff14a73c67344958ec6f6449ee31f87": {
     "model_module": "@jupyter-widgets/controls",
     "model_module_version": "1.5.0",
     "model_name": "ProgressStyleModel",
     "state": {
      "_model_module": "@jupyter-widgets/controls",
      "_model_module_version": "1.5.0",
      "_model_name": "ProgressStyleModel",
      "_view_count": null,
      "_view_module": "@jupyter-widgets/base",
      "_view_module_version": "1.2.0",
      "_view_name": "StyleView",
      "bar_color": null,
      "description_width": ""
     }
    },
    "f3b4677ca98f4414a22886d583ff36b3": {
     "model_module": "@jupyter-widgets/controls",
     "model_module_version": "1.5.0",
     "model_name": "HBoxModel",
     "state": {
      "_dom_classes": [],
      "_model_module": "@jupyter-widgets/controls",
      "_model_module_version": "1.5.0",
      "_model_name": "HBoxModel",
      "_view_count": null,
      "_view_module": "@jupyter-widgets/controls",
      "_view_module_version": "1.5.0",
      "_view_name": "HBoxView",
      "box_style": "",
      "children": [
       "IPY_MODEL_4a0458e7d5fd49fb90cbc54d0b1a0a3f",
       "IPY_MODEL_11e9780d6454422ca06ecf4935c0430e",
       "IPY_MODEL_27de5e46114c4e0282f2c1022a8bb7b3"
      ],
      "layout": "IPY_MODEL_3971fa6fb879439aab087a88ee87b614"
     }
    },
    "f825334ea52a410cb1e8c6acb48816e9": {
     "model_module": "@jupyter-widgets/controls",
     "model_module_version": "1.5.0",
     "model_name": "ProgressStyleModel",
     "state": {
      "_model_module": "@jupyter-widgets/controls",
      "_model_module_version": "1.5.0",
      "_model_name": "ProgressStyleModel",
      "_view_count": null,
      "_view_module": "@jupyter-widgets/base",
      "_view_module_version": "1.2.0",
      "_view_name": "StyleView",
      "bar_color": null,
      "description_width": ""
     }
    },
    "fb657e51fc82416ab63e50d32f52f542": {
     "model_module": "@jupyter-widgets/controls",
     "model_module_version": "1.5.0",
     "model_name": "HBoxModel",
     "state": {
      "_dom_classes": [],
      "_model_module": "@jupyter-widgets/controls",
      "_model_module_version": "1.5.0",
      "_model_name": "HBoxModel",
      "_view_count": null,
      "_view_module": "@jupyter-widgets/controls",
      "_view_module_version": "1.5.0",
      "_view_name": "HBoxView",
      "box_style": "",
      "children": [
       "IPY_MODEL_58dc40e38a3c4e9b9b56db8ed0ce9809",
       "IPY_MODEL_287253ae4cda4773be5225bfaaaceb7b",
       "IPY_MODEL_019b8464ca824686b054865fda4225b6"
      ],
      "layout": "IPY_MODEL_00e65c4f9f6947189fc7351a17a5e201"
     }
    }
   }
  }
 },
 "nbformat": 4,
 "nbformat_minor": 0
}
